{
 "cells": [
  {
   "cell_type": "markdown",
   "metadata": {},
   "source": [
    "Group Name: AG xx.\n",
    "\n",
    "Student Name (Student ID):\n",
    "\n",
    "1. Wong Ji Fong (A0249572U)\n",
    "\n",
    "2. xxxx xxxxx (xxxxxxx)\n",
    "\n",
    "3. xxxx xxxxx (xxxxxxx)"
   ]
  },
  {
   "cell_type": "markdown",
   "metadata": {},
   "source": [
    "<b><span style=\"color:red\">Type hinting is used within this document to help understand parameters  \n",
    "Please run the following cell as type hints refer to self:</span></b>"
   ]
  },
  {
   "cell_type": "code",
   "execution_count": 1,
   "metadata": {},
   "outputs": [],
   "source": [
    "from __future__ import annotations\n",
    "# Assistive imports\n",
    "from collections import namedtuple\n",
    "from typing import Tuple, List, Optional, Set, Union, Generator\n",
    "from heapq import heappush, heappop\n",
    "from collections import deque\n",
    "from functools import partial\n",
    "\n",
    "\n",
    "import matplotlib.pyplot as plt\n",
    "from matplotlib import colors\n",
    "import matplotlib.animation as animation"
   ]
  },
  {
   "cell_type": "markdown",
   "metadata": {},
   "source": [
    "# Table of contents\n",
    "\n",
    "* [Question 1 definition](#Question-1)\n",
    "* [Q1.a: Class Maze(Problem) [3 Marks]](#Q1.a:-Class-Maze(Problem)-[3-Marks])\n",
    "* [Q1.b: Analysis of the Algorithms [7 Marks]](#Q1.b:-Analysis-of-the-Algorithms-[7-Marks])\n",
    "* [Definitions](#Definitions)\n",
    "    * [Problem definition](#Problem-definition)\n",
    "    * [namedtuple `NewState` definition](#namedtuple-NewState-definition)\n",
    "    * [Node definition](#Node-definition)\n",
    "    * [Maze definition](#Maze-definition)\n",
    "* [Maze (problem) setup](#Maze-(problem)-setup)\n",
    "* [Analysis of the Algorithms](#Analysis-of-the-Algorithms)\n",
    "    * [Breadth First Search](#Breadth-First-Search)\n",
    "    * [Iterative deepening with cycle check](#Iterative-deepening-with-cycle-check)\n",
    "    * [Informed Search (generalised)](#Informed-Search-(generalised))\n",
    "    * [Uniform Cost Search](#Uniform-Cost-Search)\n",
    "    * [A* Search](#A*-Search)\n",
    "    * [Greedy Best-first Search](#Greedy-Best-First-Search)\n",
    "* [Visualising the algorithms](#Visualising-the-algorithms)\n",
    "* [Summary of data](#Summary-of-data)\n",
    "* [Visualising algorithm performances](#Visualising-algorithm-performances)\n",
    "* [Visualising algorithm path expansions and goal finding (video)](#Visualising-algorithm-path-expansions-and-goal-finding-(video))"
   ]
  },
  {
   "cell_type": "markdown",
   "metadata": {},
   "source": [
    "# Question 1\n",
    "\n",
    "Consider the maze shown below. The Maze has 16 rows and 24 columns The objective is to find a shortest path from cell $S$ to cell $G$.\n",
    "\n",
    "\n",
    "![Maze](Maze_Assignment_1-1.jpg)\n",
    "\n",
    "\n",
    "The agent can take four actions in each cell: 'RIGHT', 'DOWN', 'UP', 'LEFT'.  \n",
    "\n",
    "Each cell is represented as $(x,y)$, where $x$ indicates row number and $y$ indicates column number. Action 'UP' takes the agent from cell $(x,y)$ to $(x+1,y)$. Action 'DOWN' takes the agent from cell $(x,y)$ to $(x-1,y)$. Action 'RIGHT' takes the agent from cell $(x,y)$ to $(x,y+1)$. Action 'LEFT' takes the agent from cell $(x,y)$ to $(x,y-1)$. The triplet $(s,a,s')$  indicates that taking action $a$ at state $s$ leads to state $s'$. Actions 'LEFT' or 'RIGHT' cost 10 units for all $(s,a,s')$. Actions 'UP' or 'DOWN' cost 1 unit for all  $(s,a,s')$.  The agent cannot move into cells that are shaded. Assume that the agent knows the boundaries of the maze and has full observability. Consequently, at the bottom (row 0) and top (row 15), the agent will not take actions 'DOWN' and 'UP', respectively; at left (column 0) and right (column 23) columns, the agent will not take 'LEFT' and 'RIGHT' actions, respectively. Similalry, the agent will not take actions that lead to shaded region in the maze.\n",
    "\n",
    "## **Q1.a: Class Maze(Problem)** [3 Marks]\n",
    "\n",
    "Write a Maze class to create a model for this problem. You should not use an explicit state space model. The modelling should inherit the abstract class 'Problem' (given below). With the problem formulation, find the shortest path from S to G cell. Propose and implement multiple heuristics (at least two heuristics) for informed search algorithms. "
   ]
  },
  {
   "cell_type": "markdown",
   "metadata": {},
   "source": [
    "## **Q1.b: Analysis of the Algorithms** [7 Marks]\n",
    "\n",
    "1. Solve the above Maze problem using the following algorithms\n",
    "\n",
    "    a. Breadth-First Search \n",
    "\n",
    "    b. Depth-First Search with Cycle-Check\n",
    "\n",
    "    c. Iterative-Deepening Search with Cycle-Check\n",
    "\n",
    "    d. Uniform-Cost Search\n",
    "\n",
    "    e. A* Search \n",
    "\n",
    "    f. Greedy Best-first Search\n",
    "\n",
    "    g. Any other variants for search algorithms that are not discussed in the class (bonus/optional question) \n",
    "\n",
    "2. Identify the number of nodes generated, number of nodes expanded, maximum frontier size, and path-cost for the above algorithms. \n",
    " \n",
    "3. Compare the performance of informed search algorithms with proposed heuristics. Identify the best performing heuristic and explain.\n",
    " \n",
    "4. Draw a bar plot comparing the statistics of the algorithms and explain the results. \n",
    "\n",
    "Note 1: You must follow the problem formulation discussed in the class. A abstract class for Problem amd Node definition is presented below. The search tree generation should follow the template discussed in the class (i.e., Node class, expand methods, etc.). \n",
    "\n",
    "Note 2: If you are borrowing a block of code (for example, helper functions or data structures, etc.) from AIMA4e repository, you have to acknowledge it in the code. \n",
    "\n",
    "Note 3: The code should be written in a single jupyter notebook file."
   ]
  },
  {
   "cell_type": "markdown",
   "metadata": {},
   "source": [
    "## Definitions"
   ]
  },
  {
   "cell_type": "markdown",
   "metadata": {},
   "source": [
    "## Problem definition"
   ]
  },
  {
   "cell_type": "code",
   "execution_count": 2,
   "metadata": {},
   "outputs": [],
   "source": [
    "class Problem:\n",
    "    \"\"\"The abstract class for a formal problem. A new domain subclasses this,\n",
    "    overriding `actions` and `results`, and perhaps other methods.\n",
    "    The default heuristic is 0 and the default action cost is 1 for all states.\n",
    "    When you create an instance of a subclass, specify `initial`, and `goal` states \n",
    "    (or give an `is_goal` method) and perhaps other keyword args for the subclass.\"\"\"\n",
    "\n",
    "    def __init__(self, initial=None, goal=None, **kwds): \n",
    "        self.__dict__.update(initial=initial, goal=goal, **kwds)\n",
    "        \n",
    "    def actions(self, state):        raise NotImplementedError\n",
    "    def result(self, state, action): raise NotImplementedError\n",
    "    def is_goal(self, state):        return state == self.goal\n",
    "    def action_cost(self, s, a, s1): return 1\n",
    "    def h(self, node):               return 0\n",
    "    \n",
    "    def __str__(self):\n",
    "        return '{}({!r}, {!r})'.format(\n",
    "            type(self).__name__, self.initial, self.goal)"
   ]
  },
  {
   "cell_type": "markdown",
   "metadata": {},
   "source": [
    "## namedtuple `NewState` definition"
   ]
  },
  {
   "cell_type": "markdown",
   "metadata": {},
   "source": [
    "The following were added to the document:  \n",
    "\n",
    "Named tuple NewState to define a tuple like object with names. This helps to debug and understand the difference between a possible states (herein called NewState) that nodes can take, and Nodes that are expanded.  \n",
    "```python\n",
    "NewState = namedtuple('NewState', ['cost', 'coordinates', 'action'])\n",
    "```\n",
    "\n",
    "In particular, the named tuple is for readability, while retaining immutability and ephemeral use."
   ]
  },
  {
   "cell_type": "code",
   "execution_count": 3,
   "metadata": {},
   "outputs": [],
   "source": [
    "NewState = namedtuple('NewState', ['cost', 'coordinates', 'action'])"
   ]
  },
  {
   "cell_type": "markdown",
   "metadata": {},
   "source": [
    "## Node definition"
   ]
  },
  {
   "cell_type": "code",
   "execution_count": 4,
   "metadata": {},
   "outputs": [],
   "source": [
    "# Use the following Node class to generate search tree\n",
    "import math\n",
    "\n",
    "class Node:\n",
    "    \"A Node in a search tree.\"\n",
    "    def __init__(self, state, parent=None, action=None, path_cost=0):\n",
    "        self.__dict__.update(\n",
    "            state=state,\n",
    "            parent=parent,\n",
    "            action=action,\n",
    "            path_cost=path_cost\n",
    "        )\n",
    "    \n",
    "    def __len__(self): return 0 if self.parent is None else (1 + len(self.parent))\n",
    "    def __lt__(self, other): return self.path_cost < other.path_cost \n",
    "    \n",
    "    # newly defined to assist with trace, and repr redefined\n",
    "    # for readability\n",
    "    def __repr__(self):\n",
    "        \"\"\"\n",
    "        Newly defined to assist with trace, and track\n",
    "        available states throughout the document\n",
    "        \"\"\"\n",
    "        return '<state:(x:{},y:{}) path_cost:{} action:{}>'\\\n",
    "                .format(self.state[0], self.state[1], self.path_cost, self.action)\n",
    "    \n",
    "    def __eq__(self, other: Node) -> bool:\n",
    "        \"\"\"\n",
    "        Tests for equality between two instances of a Node.\n",
    "        Nodes with different states or different path costs \n",
    "        are now defined to be treated seperately.\n",
    "        Args:\n",
    "            other (Node): \n",
    "                Node to compare with (implicitly executed)\n",
    "                by python when doing comparisons such as node1 == node2\n",
    "        \"\"\"\n",
    "        return (self.state == other.state \n",
    "                and self.path_cost == other.path_cost)\n",
    "    \n",
    "    def expand_node(self, state: NewState) -> Node:\n",
    "        \"\"\"\n",
    "        Expands on a single state. Method takes a new state and expands \n",
    "        by instantiating a new node instance and assigning the \n",
    "        costs as the costs so far, and saving the action taken from\n",
    "        parent_node -> child_node as child.action.\n",
    "        \n",
    "        Args:\n",
    "            state (NewState): \n",
    "                Expects a namedtuple as defined in the cell above.\n",
    "            \n",
    "        Returns:\n",
    "            Node: Expanded child node\n",
    "        \"\"\"\n",
    "        expanded_node = Node(state.coordinates)\n",
    "        expanded_node.parent = self\n",
    "        expanded_node.path_cost = self.path_cost + state.cost\n",
    "        expanded_node.action = state.action\n",
    "        return expanded_node\n",
    "    \n",
    "    def expand(\n",
    "            self,     \n",
    "            permissable_actions: List[NewState]\n",
    "        ) -> List[Node]:\n",
    "        \"\"\"\n",
    "        Args:\n",
    "            permissable_actions (List[NewState]):\n",
    "                List of possible actions to take\n",
    "        \n",
    "        Returns:\n",
    "            List[Node]:\n",
    "                List of child nodes for this node.\n",
    "        \"\"\"\n",
    "        return list(map(self.expand_node, permissable_actions))\n",
    "    \n",
    "    def __bool__(self):\n",
    "        \"\"\"\n",
    "        Assist with assigning truthyness to the Node class\n",
    "        e.g. is node == True if state is truthy\n",
    "        \"\"\"\n",
    "        return True if self.state else False\n",
    "    \n",
    "    def __hash__(self):\n",
    "        \"\"\"\n",
    "        Allows this class to be used in objects that require\n",
    "        hashes such as sets, keys in dicts.\n",
    "        \"\"\"\n",
    "        return hash(self.state)"
   ]
  },
  {
   "cell_type": "markdown",
   "metadata": {},
   "source": [
    "## Maze definition"
   ]
  },
  {
   "cell_type": "code",
   "execution_count": 5,
   "metadata": {},
   "outputs": [],
   "source": [
    "class Maze(Problem):\n",
    "    def __init__(self,\n",
    "                 initial: Node,\n",
    "                 goal: Node,\n",
    "                 boundaries: Tuple[int, int],\n",
    "                 action_cost_map: Optional[dict],\n",
    "                 **kwds):\n",
    "        \"\"\"\n",
    "        Add type hints and parameter to know boundaries\n",
    "        given the assumption \"Assume that the agent knows\n",
    "        the boundaries of the maze and has full observability\"\n",
    "        \n",
    "        Args:\n",
    "            initial (Node): Node for the initial state\n",
    "            goal (Node): Node for the goal state\n",
    "            boundaries (Tuple[int,int]):\n",
    "                (rows, cols) of boundaries, assuming (0,0) to (rows,cols) \n",
    "                as problem space\n",
    "        \"\"\"\n",
    "        super().__init__(initial=initial,\n",
    "                         goal=goal,\n",
    "                         boundaries=boundaries,\n",
    "                         action_cost_map=action_cost_map,\n",
    "                         **kwds)\n",
    "    \n",
    "    def action_cost(self, node: Node, action: str) -> int:\n",
    "        \"\"\"\n",
    "        Args:\n",
    "            node (Node): Current node state\n",
    "            action (str): Action to take\n",
    "        \n",
    "        Returns:\n",
    "            int: Cost (s, a, s')\n",
    "        \"\"\"\n",
    "        return self.action_cost_map[action]\n",
    "    \n",
    "    def _transform_permissable_action(self,\n",
    "                                      actions: Tuple[Tuple[int, int], str],\n",
    "                                      node: Node) -> Node:\n",
    "        state, action = actions\n",
    "        action_cost = self.action_cost(node, action)\n",
    "        return NewState(action_cost, state, action)\n",
    "        \n",
    "    def actions(self, node: Node) -> List[NewState]:\n",
    "        \"\"\"\n",
    "        Return permissable actions as list of actions\n",
    "        as (COST, s', ACTION)\n",
    "        Args:\n",
    "            node (Node): Agents current state node\n",
    "        \n",
    "        Returns:\n",
    "            List[NewState]:\n",
    "                List of permissable states and actions to expand to\n",
    "                for the given node.\n",
    "        \"\"\"\n",
    "        x = node.state[0]\n",
    "        y = node.state[1]\n",
    "        parent = node.parent.state if node.parent else None\n",
    "        \n",
    "        permissable_x_y = {((x+1, y), 'UP'),\n",
    "                           ((x-1, y), 'DOWN'),\n",
    "                           ((x, y+1), 'RIGHT'),\n",
    "                           ((x, y-1), 'LEFT')}\n",
    "        \n",
    "        return list(\n",
    "                    map(\n",
    "                        lambda actions: self._transform_permissable_action(actions, node),\n",
    "                        filter(\n",
    "                                lambda actions:\n",
    "                                   # Ensuring they permissable actions are:\n",
    "                                   # * within boundaries\n",
    "                                   # * not a shaded region\n",
    "                                   0<=actions[0][0]<self.boundaries[0] and\n",
    "                                   0<=actions[0][1]<self.boundaries[1] and\n",
    "                                   (actions[0][0], actions[0][1]) not in self.shaded_regions,\n",
    "                               permissable_x_y\n",
    "                        )\n",
    "                )\n",
    "           )\n",
    "    \n",
    "    def h(self, node: Node) -> Union[float, int]:\n",
    "        \"\"\"\n",
    "        Implementing Manhatten distance.\n",
    "        One of two of the heuristics for Q1.a\n",
    "        \n",
    "        Args:\n",
    "            node (Node): Current agent node\n",
    "        \n",
    "        Returns:\n",
    "            Union[float, int]: heuristic value\n",
    "        \"\"\"\n",
    "        return abs(self.goal.state[0]-node.state[0]) + \\\n",
    "                abs(self.goal.state[1]-node.state[1])\n",
    "    \n",
    "    def h2(self, node: Node) -> Union[float, int]:\n",
    "        \"\"\"\n",
    "        Implementing Euclidean distance\n",
    "        One of two of the heuristics for Q1.a\n",
    "        Args:\n",
    "            node (Node): Current agent node\n",
    "        \n",
    "        Returns:\n",
    "            Union[float, int]: heuristic value\n",
    "        \"\"\"\n",
    "        return ((self.goal.state[0]-node.state[0])**2 + \n",
    "                (self.goal.state[1]-node.state[1])**2)**(1/2)\n",
    "        \n",
    "        \n",
    "    def __repr__(self):\n",
    "        \"\"\"\n",
    "        Assigning a readable representation of the object.\n",
    "        \"\"\"\n",
    "        return '{}({!r}, {!r})'.format(\n",
    "            type(self).__name__, self.initial, self.goal)\n",
    "    \n",
    "    def is_cycle(self, node: Node) -> bool:\n",
    "        \"\"\"\n",
    "        Args:\n",
    "            node (Node): Checks if a node is cyclic along its parent nodes\n",
    "        \n",
    "        Returns:\n",
    "            bool: True if it is cyclic, else False.\n",
    "        \"\"\"\n",
    "        visited = set()\n",
    "        state = node.state\n",
    "        while node.parent:\n",
    "            if node.parent.state == state:\n",
    "                return True\n",
    "            node = node.parent\n",
    "        return False\n",
    "    \n",
    "    def is_goal(self, node) -> bool:\n",
    "        \"\"\"\n",
    "        Args:\n",
    "            node (Node):\n",
    "                Helper function to check if a certain node is the goal\n",
    "                node based on the parameters of this maze.\n",
    "        \n",
    "        Returns: \n",
    "            bool:\n",
    "                True if it is the goal node, false if not\n",
    "        \"\"\"\n",
    "        return node.state == self.goal.state"
   ]
  },
  {
   "cell_type": "markdown",
   "metadata": {},
   "source": [
    "## Maze (problem) setup"
   ]
  },
  {
   "cell_type": "markdown",
   "metadata": {},
   "source": [
    "Instantiating start and goal nodes:"
   ]
  },
  {
   "cell_type": "code",
   "execution_count": 6,
   "metadata": {},
   "outputs": [],
   "source": [
    "start_node = Node((8,10))\n",
    "goal_node = Node((11,9))"
   ]
  },
  {
   "cell_type": "markdown",
   "metadata": {},
   "source": [
    "Instantiating maze with start, end, maze size, boundaries, action costs and shaded regions (not known to agent itself):"
   ]
  },
  {
   "cell_type": "code",
   "execution_count": 7,
   "metadata": {},
   "outputs": [],
   "source": [
    "maze = Maze(start_node,\n",
    "            goal_node,\n",
    "            boundaries=(16, 24),\n",
    "            action_cost_map={'LEFT': 10, 'RIGHT': 10, 'UP': 1, 'DOWN': 1},\n",
    "            shaded_regions = {(7, 9),\n",
    "                              (6, 9),\n",
    "                              (10, 12),\n",
    "                              (10, 13),\n",
    "                              (11, 12),\n",
    "                              (10, 9),\n",
    "                              (12, 10),\n",
    "                              (9, 9),\n",
    "                              (13, 10),\n",
    "                              (8, 9),\n",
    "                              (11, 13),\n",
    "                              (10, 10),\n",
    "                              (14, 9),\n",
    "                              (11, 10)})"
   ]
  },
  {
   "cell_type": "markdown",
   "metadata": {},
   "source": [
    "## Analysis of the Algorithms\n",
    "\n",
    "1. [Breadth-First Search](#Breadth-First-Search)\n",
    "2. Depth-First Search with Cycle-Check\n",
    "3. [Iterative deepening with cycle check](#Iterative-deepening-with-cycle-check)\n",
    "4. [Informed Search (generalised)](#Informed-Search-(generalised))\n",
    "4. [Uniform Cost Search](#Uniform-Cost-Search)\n",
    "5. [A* Search](#A*-Search)\n",
    "6. [Greedy Best-first Search](#Greedy-Best-First-Search)"
   ]
  },
  {
   "cell_type": "markdown",
   "metadata": {},
   "source": [
    "Note: Parts of the following algorithms have additional variables to keep track of data  \n",
    "\n",
    "* `expanded` (list): To track expanded nodes\n",
    "* `current_frontier_size` (int): To track frontier size at a given time\n",
    "* `maximum_frontier_size` (int): To track maximum frontier size for the function"
   ]
  },
  {
   "cell_type": "markdown",
   "metadata": {},
   "source": [
    "### Helper functions (Please run this cell)"
   ]
  },
  {
   "cell_type": "code",
   "execution_count": 8,
   "metadata": {},
   "outputs": [],
   "source": [
    "def print_stats(node: Node,\n",
    "                expanded: List[Tuple[int, int]],\n",
    "                max_frontier_size: int,\n",
    "                explored_count: int) -> None:\n",
    "    print((f'Max frontier: {max_frontier_size}'\n",
    "           f'\\nExpanded: {len(expanded)}'\n",
    "           f'\\nPath Cost: {node.path_cost}'\n",
    "           f'\\nExplored nodes: {explored_count}'))\n",
    "\n",
    "algorithm_results = {}\n",
    "def save_results(algorithm:str,\n",
    "                node: Node,\n",
    "                expanded: List[Tuple[int, int]],\n",
    "                max_frontier_size: int,\n",
    "                explored_count: int) -> None:\n",
    "    \"\"\"\n",
    "    Args:\n",
    "        algorithm (str): Algorithm name\n",
    "        node (Node): solution node\n",
    "        expanded (List[Tuple[int, int]]): Expanded nodes\n",
    "        max_frontier_size (int): Maximum frontier size for the algo\n",
    "        explored_count (int): Nodes explored for the algo\n",
    "    \n",
    "    Updates:\n",
    "        algorithm_results\n",
    "    \"\"\"\n",
    "    algorithm_results[algorithm] = {\n",
    "        'solution_node': node,\n",
    "        'expanded': expanded,\n",
    "        'max_frontier_size': max_frontier_size,\n",
    "        'explored_count': explored_count\n",
    "    }"
   ]
  },
  {
   "cell_type": "markdown",
   "metadata": {},
   "source": [
    "### Breadth First Search"
   ]
  },
  {
   "cell_type": "code",
   "execution_count": 9,
   "metadata": {},
   "outputs": [],
   "source": [
    "def breadth_first_search(\n",
    "        maze: Maze\n",
    "    ) -> (Node, List[Tuple[int, int]], int):\n",
    "    \"\"\"\n",
    "    Args:\n",
    "        maze (Maze): Maze class to run the search on\n",
    "    \n",
    "    Returns:\n",
    "        solution (Node):\n",
    "            Node for which the solution was found\n",
    "        expanded_nodes (List[Tuple[int, int]]):\n",
    "            Nodes for which was visited\n",
    "        maximum_frontier_size (int):\n",
    "            Maximum frontier size of this algo\n",
    "    \"\"\"\n",
    "    initial_node = maze.initial\n",
    "    frontier = deque([initial_node])\n",
    "    visited = set()\n",
    "    \n",
    "    expanded = []\n",
    "    current_frontier_size = 1\n",
    "    maximum_frontier_size = 1\n",
    "    \n",
    "    while frontier:\n",
    "        frontier_node = frontier.popleft()\n",
    "        current_frontier_size -= 1\n",
    "        \n",
    "        actions = maze.actions(frontier_node)\n",
    "        for child in frontier_node.expand(actions):\n",
    "            if maze.is_goal(child):\n",
    "                return (child,\n",
    "                        expanded,\n",
    "                        maximum_frontier_size,\n",
    "                        len(expanded)+len(frontier))\n",
    "            if child not in visited:\n",
    "                expanded.append(child.state)\n",
    "                \n",
    "                visited.add(child)\n",
    "                frontier.append(child)\n",
    "                current_frontier_size += 1\n",
    "                if current_frontier_size > maximum_frontier_size:\n",
    "                    maximum_frontier_size = current_frontier_size\n",
    "    raise Exception('Unable to find target')"
   ]
  },
  {
   "cell_type": "code",
   "execution_count": 10,
   "metadata": {},
   "outputs": [],
   "source": [
    "bfs_results = breadth_first_search(maze)"
   ]
  },
  {
   "cell_type": "code",
   "execution_count": 11,
   "metadata": {},
   "outputs": [
    {
     "name": "stdout",
     "output_type": "stream",
     "text": [
      "Max frontier: 293\n",
      "Expanded: 1127\n",
      "Path Cost: 39\n",
      "Explored nodes: 1420\n"
     ]
    }
   ],
   "source": [
    "save_results('Breadth first search', *bfs_results)\n",
    "print_stats(*bfs_results)"
   ]
  },
  {
   "cell_type": "markdown",
   "metadata": {},
   "source": [
    "### Iterative deepening with cycle check"
   ]
  },
  {
   "cell_type": "code",
   "execution_count": 12,
   "metadata": {},
   "outputs": [],
   "source": [
    "# Uncomment below if a recursion limit is reached as\n",
    "# it may require a level of recursion to check \n",
    "# the path cost so far\n",
    "\n",
    "import sys\n",
    "\n",
    "sys.setrecursionlimit(500000) \n",
    "\n",
    "def depth_limited_search(\n",
    "        maze: Maze,\n",
    "        limit: int,\n",
    "        expanded: list,\n",
    "    ) -> (Union[Node, str],\n",
    "          List[Tuple[int, int]],\n",
    "          int,\n",
    "          int):\n",
    "    \"\"\"\n",
    "    Args:\n",
    "        maze (Maze): Maze to solve\n",
    "        l (int): limit for which to apply as cutoff\n",
    "        expanded (list): To track expanded nodes\n",
    "    \n",
    "    Returns:\n",
    "        Union[Node, str]:\n",
    "            str returned on failure to find solution;\n",
    "            else node returned if found\n",
    "        expanded List[Tuple[int, int]]:\n",
    "            List of coordinates expanded by the algorithm\n",
    "        max_frontier_size int:\n",
    "            Maximum frontier size of this iteration\n",
    "            of depth limited search\n",
    "        size_of_frontier int:\n",
    "            Remaining length of frontier on exiting this function\n",
    "    \"\"\"\n",
    "    frontier = [maze.initial]\n",
    "    solution = 'FAIL'\n",
    "    \n",
    "    current_frontier_size = 1\n",
    "    max_frontier_size = 1\n",
    "    \n",
    "    while frontier:\n",
    "        frontier_node = frontier.pop()\n",
    "        current_frontier_size -= 1\n",
    "        \n",
    "        if len(frontier_node) > limit:\n",
    "            solution = 'cutoff', max_frontier_size\n",
    "        else:\n",
    "            actions = maze.actions(frontier_node)\n",
    "            for child in frontier_node.expand(actions):\n",
    "                if maze.is_goal(child):\n",
    "                    return child, expanded, max_frontier_size, len(frontier)\n",
    "                \n",
    "                if not maze.is_cycle(child):\n",
    "                    expanded.append(child.state)\n",
    "                    \n",
    "                    frontier.append(child)\n",
    "                    current_frontier_size += 1\n",
    "                    if current_frontier_size > max_frontier_size:\n",
    "                        max_frontier_size = current_frontier_size\n",
    "    return solution, expanded, max_frontier_size, len(frontier)\n",
    "\n",
    "def iterative_deepening_search(\n",
    "        maze: Maze,\n",
    "        depth:int=9999999999\n",
    "    ) -> (Union[Node, str], List[Tuple[int, int]], int):\n",
    "    \"\"\"\n",
    "    Args:\n",
    "        maze (Maze): Maze problem class to solve\n",
    "        depth (int): Depth to limit the search to\n",
    "    \n",
    "    Returns:\n",
    "        Union[Node, str]:\n",
    "            Node or exit message\n",
    "        List[Tuple[int, int]]:\n",
    "            List of expanded coordinates used by algorithm\n",
    "        int:\n",
    "            # of explored nodes\n",
    "    \"\"\"\n",
    "    expanded = []\n",
    "    max_frontier_size = 0\n",
    "    all_frontier_size = 0\n",
    "    \n",
    "    for d in range(0, depth):\n",
    "        (result,\n",
    "         expanded, \n",
    "         frontier_size, \n",
    "         final_frontier_size) = depth_limited_search(maze, depth, expanded)\n",
    "        all_frontier_size += final_frontier_size\n",
    "        if frontier_size > max_frontier_size:\n",
    "            max_frontier_size = frontier_size\n",
    "        if isinstance(result, Node):\n",
    "            return result, expanded, max_frontier_size, len(expanded)+all_frontier_size\n",
    "        else:\n",
    "            return (f'Depth limited failed to yield results: {result}',\n",
    "                    expanded,\n",
    "                    max_frontier_size)"
   ]
  },
  {
   "cell_type": "code",
   "execution_count": 13,
   "metadata": {},
   "outputs": [],
   "source": [
    "ids_results = iterative_deepening_search(maze, 100)"
   ]
  },
  {
   "cell_type": "code",
   "execution_count": 14,
   "metadata": {},
   "outputs": [
    {
     "name": "stdout",
     "output_type": "stream",
     "text": [
      "Max frontier: 137\n",
      "Expanded: 1305\n",
      "Path Cost: 541\n",
      "Explored nodes: 1435\n"
     ]
    }
   ],
   "source": [
    "save_results('Iterative deepening search', *ids_results)\n",
    "print_stats(*ids_results)"
   ]
  },
  {
   "cell_type": "markdown",
   "metadata": {},
   "source": [
    "## Informed Search (generalised)"
   ]
  },
  {
   "cell_type": "markdown",
   "metadata": {},
   "source": [
    "General informed search algorithm"
   ]
  },
  {
   "cell_type": "code",
   "execution_count": 15,
   "metadata": {},
   "outputs": [],
   "source": [
    "def informed_search(\n",
    "        maze: Maze,\n",
    "        f: Callable\n",
    "    ) -> (Node, List[Tuple[int, int]], int):\n",
    "    \"\"\"\n",
    "    Args:\n",
    "        maze (Maze): Maze to run search on\n",
    "        f (Callable)\n",
    "    \n",
    "    Returns:\n",
    "        child (Node): Solution node\n",
    "        expanded (List[Tuple[int, int]]): Expanded nodes\n",
    "        max_frontier_size (int): Maximum frontier size\n",
    "        explored (int): Sum of nodes explored\n",
    "    \"\"\"\n",
    "    initial_node = maze.initial\n",
    "    \n",
    "    frontier = [(f(initial_node), initial_node)]\n",
    "    visited = {maze.initial.state: maze.initial}\n",
    "    \n",
    "    expanded = []\n",
    "    current_frontier_size = 1\n",
    "    max_frontier_size = 1\n",
    "    \n",
    "    while frontier:\n",
    "        heuristic, frontier_node = heappop(frontier)\n",
    "        current_frontier_size -= 1\n",
    "        \n",
    "        actions = maze.actions(frontier_node)\n",
    "        if maze.is_goal(frontier_node):\n",
    "            return (frontier_node, \n",
    "                    expanded, \n",
    "                    max_frontier_size, \n",
    "                    len(expanded)+len(frontier))\n",
    "        \n",
    "        for child in frontier_node.expand(actions):\n",
    "            if (child.state not in visited or \n",
    "                child.path_cost < visited[child.state].path_cost):\n",
    "                expanded.append(child.state)\n",
    "                \n",
    "                visited[child.state] = child\n",
    "                heappush(frontier, (f(child), child))\n",
    "                current_frontier_size += 1\n",
    "                if current_frontier_size > max_frontier_size:\n",
    "                    max_frontier_size = current_frontier_size\n",
    "    raise Exception('Unable to find target')"
   ]
  },
  {
   "cell_type": "markdown",
   "metadata": {},
   "source": [
    "## Uniform Cost Search"
   ]
  },
  {
   "cell_type": "markdown",
   "metadata": {},
   "source": [
    "Uniform cost search (UCS) is an uninformed search that only takes into account total path cost and uses no heuristics. As such, we use `partial` to curry the informed search function and feed in the f function\n",
    "\n",
    "$$\n",
    "f(n) = g(n) + h(n) \\text{ where h(n) = 0}. \\\\\n",
    " \\\\\n",
    "=> f(n) = g(n) + 0\n",
    "$$"
   ]
  },
  {
   "cell_type": "code",
   "execution_count": 16,
   "metadata": {},
   "outputs": [],
   "source": [
    "uniform_cost_search = partial(informed_search, f=lambda node: node.path_cost + 0)"
   ]
  },
  {
   "cell_type": "code",
   "execution_count": 17,
   "metadata": {},
   "outputs": [],
   "source": [
    "ucs_results = uniform_cost_search(maze)"
   ]
  },
  {
   "cell_type": "code",
   "execution_count": 18,
   "metadata": {},
   "outputs": [
    {
     "name": "stdout",
     "output_type": "stream",
     "text": [
      "Max frontier: 34\n",
      "Expanded: 123\n",
      "Path Cost: 39\n",
      "Explored nodes: 155\n"
     ]
    }
   ],
   "source": [
    "save_results('Uniform Cost Search', *ucs_results)\n",
    "print_stats(*ucs_results)"
   ]
  },
  {
   "cell_type": "markdown",
   "metadata": {},
   "source": [
    "## A* Search\n",
    "A* search is an informed search that takes into account total path cost and heuristics. As such, we use partial to curry the informed search function and feed in the f function:\n",
    "\n",
    "$$\n",
    "f(n) = g(n) + h(n)\n",
    "$$"
   ]
  },
  {
   "cell_type": "code",
   "execution_count": 19,
   "metadata": {},
   "outputs": [],
   "source": [
    "# Manhatten distance heuristic\n",
    "astar_search_h = partial(informed_search, f=lambda node: node.path_cost + maze.h(node))\n",
    "# Euclidean distance heuristic\n",
    "astar_search_h2 = partial(informed_search, f=lambda node: node.path_cost + maze.h2(node))"
   ]
  },
  {
   "cell_type": "code",
   "execution_count": 20,
   "metadata": {},
   "outputs": [],
   "source": [
    "astar_search_h_results = astar_search_h(maze)"
   ]
  },
  {
   "cell_type": "code",
   "execution_count": 21,
   "metadata": {
    "scrolled": true
   },
   "outputs": [
    {
     "name": "stdout",
     "output_type": "stream",
     "text": [
      "Max frontier: 34\n",
      "Expanded: 98\n",
      "Path Cost: 39\n",
      "Explored nodes: 131\n"
     ]
    }
   ],
   "source": [
    "save_results('A* Search (Manhatten distance h)', *astar_search_h_results)\n",
    "print_stats(*astar_search_h_results)"
   ]
  },
  {
   "cell_type": "code",
   "execution_count": 22,
   "metadata": {},
   "outputs": [],
   "source": [
    "astar_search_h2_results = astar_search_h2(maze)"
   ]
  },
  {
   "cell_type": "code",
   "execution_count": 23,
   "metadata": {
    "scrolled": true
   },
   "outputs": [
    {
     "name": "stdout",
     "output_type": "stream",
     "text": [
      "Max frontier: 34\n",
      "Expanded: 98\n",
      "Path Cost: 39\n",
      "Explored nodes: 131\n"
     ]
    }
   ],
   "source": [
    "save_results('A* Search (Euclidean distance h2)', *astar_search_h_results)\n",
    "print_stats(*astar_search_h_results)"
   ]
  },
  {
   "cell_type": "markdown",
   "metadata": {},
   "source": [
    "## Greedy Best First Search"
   ]
  },
  {
   "cell_type": "markdown",
   "metadata": {},
   "source": [
    "Greedy Best First Search (GBFS) is an informed search that uses only heuristics $h(n)$ and does not take into account $g(n)$. Hence:\n",
    "\n",
    "$$\n",
    "f(n) = g(n) + h(n) \\text{ where g(n) = 0}\\\\\n",
    "=> f(n) = h(n)\n",
    "$$"
   ]
  },
  {
   "cell_type": "code",
   "execution_count": 24,
   "metadata": {},
   "outputs": [],
   "source": [
    "# Manhatten distance heuristic\n",
    "gbfs_search_h = partial(informed_search, f=lambda node: maze.h(node))\n",
    "# Euclidean distance heuristic\n",
    "gbfs_search_h2 = partial(informed_search, f=lambda node: maze.h2(node))"
   ]
  },
  {
   "cell_type": "code",
   "execution_count": 25,
   "metadata": {},
   "outputs": [],
   "source": [
    "gbfs_search_h_results = gbfs_search_h(maze)"
   ]
  },
  {
   "cell_type": "code",
   "execution_count": 26,
   "metadata": {},
   "outputs": [
    {
     "name": "stdout",
     "output_type": "stream",
     "text": [
      "Max frontier: 17\n",
      "Expanded: 38\n",
      "Path Cost: 61\n",
      "Explored nodes: 54\n"
     ]
    }
   ],
   "source": [
    "save_results('Greedy Best First Search (Manhatten distance h)', *gbfs_search_h_results)\n",
    "print_stats(*gbfs_search_h_results)"
   ]
  },
  {
   "cell_type": "code",
   "execution_count": 27,
   "metadata": {},
   "outputs": [],
   "source": [
    "gbfs_search_h2_results = gbfs_search_h2(maze)"
   ]
  },
  {
   "cell_type": "code",
   "execution_count": 28,
   "metadata": {},
   "outputs": [
    {
     "name": "stdout",
     "output_type": "stream",
     "text": [
      "Max frontier: 17\n",
      "Expanded: 38\n",
      "Path Cost: 61\n",
      "Explored nodes: 54\n"
     ]
    }
   ],
   "source": [
    "save_results('Greedy Best First Search (Euclidean distance h2)', *gbfs_search_h2_results)\n",
    "print_stats(*gbfs_search_h2_results)"
   ]
  },
  {
   "cell_type": "markdown",
   "metadata": {},
   "source": [
    "## Summary of data"
   ]
  },
  {
   "cell_type": "markdown",
   "metadata": {},
   "source": [
    "Summary of all statistics on the algorithms"
   ]
  },
  {
   "cell_type": "code",
   "execution_count": 29,
   "metadata": {},
   "outputs": [
    {
     "data": {
      "text/html": [
       "<table><tr><td><h4>Algorithm</h4></td><td><h4>Nodes generated</h4></td><td><h4>Nodes expanded</h4></td><td><h4>Maximum Frontier size</h4></td><td><h4>Path Cost</h4></td></tr><tr><td>Breadth first search</td><td>1420</td><td>1127</td><td>293</td><td>39</td></tr><tr><td>Iterative deepening search</td><td>1435</td><td>1305</td><td>137</td><td>541</td></tr><tr><td>Uniform Cost Search</td><td>155</td><td>123</td><td>34</td><td>39</td></tr><tr><td>A* Search (Manhatten distance h)</td><td>131</td><td>98</td><td>34</td><td>39</td></tr><tr><td>A* Search (Euclidean distance h2)</td><td>131</td><td>98</td><td>34</td><td>39</td></tr><tr><td>Greedy Best First Search (Manhatten distance h)</td><td>54</td><td>38</td><td>17</td><td>61</td></tr><tr><td>Greedy Best First Search (Euclidean distance h2)</td><td>54</td><td>38</td><td>17</td><td>61</td></tr></table>"
      ],
      "text/plain": [
       "<IPython.core.display.HTML object>"
      ]
     },
     "metadata": {},
     "output_type": "display_data"
    }
   ],
   "source": [
    "from IPython.display import HTML, display\n",
    "\n",
    "def display_table(data):\n",
    "    html = \"<table>\"\n",
    "    for idx, row in enumerate(data):\n",
    "        html += \"<tr>\"\n",
    "        for field in row:\n",
    "            if not idx == 0:\n",
    "                html += f\"<td>{field}</td>\"\n",
    "            else:\n",
    "                html += f\"<td><h4>{field}</h4></td>\"\n",
    "        html += \"</tr>\"\n",
    "    html += \"</table>\"\n",
    "    display(HTML(html))\n",
    "\n",
    "def extract_data(\n",
    "    name: str,\n",
    "    entry: dict\n",
    ") -> List[str, int, int, int, int]:\n",
    "    return [name,\n",
    "           entry['explored_count'],\n",
    "           len(entry['expanded']),\n",
    "           entry['max_frontier_size'],\n",
    "           entry['solution_node'].path_cost]\n",
    "\n",
    "# Headers of table\n",
    "table = [['Algorithm',\n",
    "         'Nodes generated',\n",
    "         'Nodes expanded',\n",
    "         'Maximum Frontier size',\n",
    "         'Path Cost']]\n",
    "table.extend(\n",
    "    list(\n",
    "        map(\n",
    "            lambda x: extract_data(*x),\n",
    "            algorithm_results.items()\n",
    "        )\n",
    "    )\n",
    ")\n",
    "\n",
    "display_table(table)"
   ]
  },
  {
   "cell_type": "markdown",
   "metadata": {},
   "source": [
    "## Visualising algorithm performances"
   ]
  },
  {
   "cell_type": "code",
   "execution_count": 30,
   "metadata": {},
   "outputs": [],
   "source": [
    "table_t = [[] for i in range(len(table[0]))]\n",
    "for idx, row in enumerate(table):\n",
    "    for idy, col in enumerate(row):\n",
    "        table_t[idy].append(col)"
   ]
  },
  {
   "cell_type": "code",
   "execution_count": 31,
   "metadata": {},
   "outputs": [
    {
     "data": {
      "image/png": "[encoded data removed]",
      "text/plain": [
       "<Figure size 720x1440 with 4 Axes>"
      ]
     },
     "metadata": {
      "needs_background": "light"
     },
     "output_type": "display_data"
    }
   ],
   "source": [
    "import matplotlib.pyplot as plt\n",
    "fig, (ax1, ax2, ax3, ax4) = plt.subplots(4, 1, figsize=(10,20))\n",
    "\n",
    "fig.suptitle('Algorithm performances', fontsize=30)\n",
    "\n",
    "\n",
    "def autolabel(ax, rects):\n",
    "    \"\"\"\n",
    "    Attach a text label above each bar displaying its height\n",
    "    \"\"\"\n",
    "    for rect in rects:\n",
    "        height = rect.get_height()\n",
    "        ax.text(rect.get_x() + rect.get_width()/2., 1.05*height,\n",
    "                '%d' % int(height),\n",
    "                ha='center', va='bottom')\n",
    "\n",
    "def plot_subplots(ax: plt.Axes, row:int, color:str):\n",
    "    entries = len(table_t[0]) - 1\n",
    "    ind = list(range(entries))\n",
    "    algorithms = table_t[0][1:]\n",
    "    \n",
    "    ax.set_title(table_t[row][0])\n",
    "    bar = ax.bar(range(entries), table_t[row][1:], color=color)\n",
    "    ax.set_xticks(range(entries))\n",
    "    ax.set_xticklabels(algorithms, rotation=10)\n",
    "    ax.grid(color='#95a5a6', linestyle='--', linewidth='2', axis='y', alpha=0.7)\n",
    "    autolabel(ax, bar)\n",
    "\n",
    "plot_subplots(ax1, 1, 'royalblue')\n",
    "plot_subplots(ax2, 2, 'orange')\n",
    "plot_subplots(ax3, 3, 'red')\n",
    "plot_subplots(ax4, 4, 'green')\n",
    "plt.subplots_adjust(hspace=0.5) \n",
    "\n",
    "plt.savefig('performances.jpg')\n",
    "plt.show()"
   ]
  },
  {
   "cell_type": "markdown",
   "metadata": {},
   "source": [
    "## Visualising algorithm path expansions and goal finding (video)"
   ]
  },
  {
   "cell_type": "markdown",
   "metadata": {},
   "source": [
    "Mazes are visual. To help visualise each algorithms effect in pathfinding, the following was implemented to assist with understanding each algorithms approach to finding the goal.\n",
    "\n",
    "The following function is written in a way to run the function on-demand, then save the video on your local machine before displaying it in this notebook."
   ]
  },
  {
   "cell_type": "code",
   "execution_count": 32,
   "metadata": {},
   "outputs": [],
   "source": [
    "from IPython.display import Video\n",
    "\n",
    "def init_maze(maze: Maze) -> List[List[int]]:\n",
    "    \"\"\"\n",
    "    Initialises a row x col maze with 0s and plot\n",
    "    maze parameters\n",
    "    Args:\n",
    "        maze (Maze): Maze / problem area\n",
    "    \n",
    "    Returns:\n",
    "        List[List[int]]:\n",
    "            row x col array of 0s\n",
    "    \"\"\"\n",
    "    cols = maze.boundaries[1]\n",
    "    rows = maze.boundaries[0]\n",
    "    draw_maze = [[0 for j in range(cols)]\n",
    "                     for i in range(rows)]\n",
    "    \n",
    "    draw_maze = plot_state(draw_maze, maze.initial.state, 'start')\n",
    "    draw_maze = plot_state(draw_maze, maze.goal.state, 'end')\n",
    "    \n",
    "    for barrier in maze.shaded_regions:\n",
    "        draw_maze = plot_state(draw_maze, barrier, 'barrier')\n",
    "    \n",
    "    return draw_maze\n",
    "\n",
    "def plot_state(draw_maze, \n",
    "               coord:Tuple[int, int],\n",
    "               marker_type:Literal['start',\n",
    "                                   'end',\n",
    "                                   'path',\n",
    "                                   'expand',\n",
    "                                   'barrier']):\n",
    "    mapping = {\n",
    "        'start': 10,\n",
    "        'end': 20,\n",
    "        'expand': 30,\n",
    "        'path': 40,\n",
    "        'barrier': 50,\n",
    "        'replace': 60\n",
    "    }\n",
    "    draw_maze[-(coord[0]+1)][coord[1]] = mapping[marker_type]\n",
    "    return draw_maze\n",
    "\n",
    "def trace_all_states_taken(state: Node) -> List[str]:\n",
    "    \"\"\"\n",
    "    Return path taken given node\n",
    "    Args:\n",
    "        state (Node): Node of a path\n",
    "    \n",
    "    Returns:\n",
    "        List[str]:\n",
    "            Actions taken in order from start\n",
    "    \"\"\"\n",
    "    all_actions = []\n",
    "    while state.action != None:\n",
    "        all_actions.append((state.state, 'path'))\n",
    "        state = state.parent\n",
    "    return all_actions\n",
    "\n",
    "def get_expanded_from_algo(\n",
    "        maze: Maze,\n",
    "        algo_func: Callable\n",
    "    ) -> List[Node]:\n",
    "    \"\"\"\n",
    "    Helper function to create the expand list\n",
    "    Args:\n",
    "        maze (Maze): Maze instance\n",
    "        algo_func (Callable): Algo to run\n",
    "    \n",
    "    Returns:\n",
    "        Tuple(Tuple[int, int], str) expansion type\n",
    "    \"\"\"\n",
    "    algo_results = algo_func(maze)\n",
    "    algo_expanded = list(map(lambda x: (x, 'expand'), algo_results[1]))\n",
    "    if isinstance(algo_results[0], Node):\n",
    "        algo_expanded.extend(trace_all_states_taken(algo_results[0]))\n",
    "    return algo_expanded\n",
    "\n",
    "def animate_algo(maze, \n",
    "                 expanded: List[Tuple[int,int], str], \n",
    "                 filename:str) -> str:\n",
    "    \"\"\"\n",
    "    Args:\n",
    "        expanded (List[Tuple[int,int], str):\n",
    "            List of coordinate pairs and markers to display\n",
    "        filename (str):\n",
    "            Filename to save the video file of the algo as\n",
    "    \n",
    "    Returns:\n",
    "        str: filename to play using IPython.display.Video\n",
    "    \"\"\"\n",
    "    maze_map = init_maze(maze)\n",
    "\n",
    "    def tick_range(n):\n",
    "        value = -0.5\n",
    "        arr = [value]\n",
    "        while value < n-1:\n",
    "            value += 1\n",
    "            arr.append(value)\n",
    "        return arr\n",
    "    \n",
    "    fig, ax = plt.subplots()\n",
    "    cmap = colors.ListedColormap(\n",
    "            ['white','green','red','blue', 'green', 'black', 'grey']\n",
    "    )\n",
    "    bounds = [0,10,20,30,40,50,60,70]\n",
    "    norm = colors.BoundaryNorm(bounds, cmap.N)\n",
    "    data = ax.imshow(maze_map, cmap=cmap, norm=norm)\n",
    "    ax.grid(which='major', axis='both', linestyle='-', color='k', linewidth=2)\n",
    "    rows=maze.boundaries[0]\n",
    "    cols=maze.boundaries[1]\n",
    "    col_ticks = tick_range(cols)\n",
    "    row_ticks = tick_range(rows)\n",
    "    ax.set_xticks(col_ticks)\n",
    "    ax.set_yticks(row_ticks)\n",
    "    ax.set_xticklabels(list(map(lambda x: int(x+0.5), col_ticks)))\n",
    "    ax.set_yticklabels(list(map(lambda x: int(x+0.5), row_ticks[::-1])))\n",
    "    \n",
    "    def animate_func(i, maze_map):\n",
    "        if expanded[i][0] == maze.initial.state:\n",
    "            return [data]\n",
    "        \n",
    "        maze_map = plot_state(maze_map,\n",
    "                              expanded[i][0],\n",
    "                              expanded[i][1])\n",
    "        data.set_data(maze_map)\n",
    "        return [data]\n",
    "\n",
    "    anim = animation.FuncAnimation(fig, \n",
    "                                   animate_func,\n",
    "                                   frames=len(expanded),\n",
    "                                   interval=30,\n",
    "                                   fargs=(maze_map,),\n",
    "                                   repeat=False)\n",
    "    anim.save(filename, writer='ffmpeg') # to save\n",
    "    return filename\n",
    "\n",
    "def save_and_view_visualisation(\n",
    "        algo: Literal['Breadth first search',\n",
    "                     'Greedy best first search h',\n",
    "                     'Greedy best first search h2',\n",
    "                     'Iterative deepening search',\n",
    "                     'UCS',\n",
    "                     'A* h',\n",
    "                     'A* h2']\n",
    "    ) -> Video:\n",
    "    if algo not in ALGO_MAP:\n",
    "        raise Exception('Please provide a corresponding algo name')\n",
    "    expanded = get_expanded_from_algo(maze, ALGO_MAP[algo])\n",
    "    return Video(animate_algo(maze, expanded, f'{algo}.mp4'))"
   ]
  },
  {
   "cell_type": "code",
   "execution_count": null,
   "metadata": {},
   "outputs": [],
   "source": [
    "ALGO_MAP = {\n",
    "    'Breadth first search': breadth_first_search,\n",
    "    'Iterative deepening search': partial(iterative_deepening_search, depth=6),\n",
    "    'Greedy best first search h': gbfs_search_h,\n",
    "    'Greedy best first search h2': gbfs_search_h2,\n",
    "    'UCS': uniform_cost_search,\n",
    "    'A* h': astar_search_h,\n",
    "    'A* h2': astar_search_h2\n",
    "}\n",
    "\n",
    "# Please input an algorithm name from the map above.\n",
    "# For IDS, it is curried with a depth parameter. Adjust it to\n",
    "# change the limit\n",
    "save_and_view_visualisation('Iterative deepening search')"
   ]
  }
 ],
 "metadata": {
  "kernelspec": {
   "display_name": "Python 3 (ipykernel)",
   "language": "python",
   "name": "python3"
  },
  "language_info": {
   "codemirror_mode": {
    "name": "ipython",
    "version": 3
   },
   "file_extension": ".py",
   "mimetype": "text/x-python",
   "name": "python",
   "nbconvert_exporter": "python",
   "pygments_lexer": "ipython3",
   "version": "3.7.11"
  },
  "vscode": {
   "interpreter": {
    "hash": "85c6d5c81e07e5df96d46470b5f31cdc60bf99937c21eb8030f5ac9c2291ee2f"
   }
  }
 },
 "nbformat": 4,
 "nbformat_minor": 2
}
