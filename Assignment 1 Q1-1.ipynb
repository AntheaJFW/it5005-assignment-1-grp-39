{
 "cells": [
  {
   "cell_type": "markdown",
   "metadata": {},
   "source": [
    "Group Name: AG xx.\n",
    "\n",
    "Student Name (Student ID):\n",
    "\n",
    "1. Wong Ji Fong (A0249572U)\n",
    "\n",
    "2. xxxx xxxxx (xxxxxxx)\n",
    "\n",
    "3. xxxx xxxxx (xxxxxxx)"
   ]
  },
  {
   "cell_type": "code",
   "execution_count": 1,
   "metadata": {},
   "outputs": [],
   "source": [
    "# Type hinting is used within this document to help understand parameters\n",
    "# Required, type hints refer to self:\n",
    "from __future__ import annotations\n",
    "# Assistive imports\n",
    "from collections import namedtuple\n",
    "from typing import Tuple, List, Optional, Set, Union, Generator\n",
    "from heapq import heappush, heappop\n",
    "from collections import deque\n",
    "from functools import partial"
   ]
  },
  {
   "cell_type": "markdown",
   "metadata": {},
   "source": [
    "# Question 1\n",
    "\n",
    "Consider the maze shown below. The Maze has 16 rows and 24 columns The objective is to find a shortest path from cell $S$ to cell $G$.\n",
    "\n",
    "\n",
    "![Maze](Maze_Assignment_1-1.jpg)\n",
    "\n",
    "\n",
    "The agent can take four actions in each cell: 'RIGHT', 'DOWN', 'UP', 'LEFT'.  \n",
    "\n",
    "Each cell is represented as $(x,y)$, where $x$ indicates row number and $y$ indicates column number. Action 'UP' takes the agent from cell $(x,y)$ to $(x+1,y)$. Action 'DOWN' takes the agent from cell $(x,y)$ to $(x-1,y)$. Action 'RIGHT' takes the agent from cell $(x,y)$ to $(x,y+1)$. Action 'LEFT' takes the agent from cell $(x,y)$ to $(x,y-1)$. The triplet $(s,a,s')$  indicates that taking action $a$ at state $s$ leads to state $s'$. Actions 'LEFT' or 'RIGHT' cost 10 units for all $(s,a,s')$. Actions 'UP' or 'DOWN' cost 1 unit for all  $(s,a,s')$.  The agent cannot move into cells that are shaded. Assume that the agent knows the boundaries of the maze and has full observability. Consequently, at the bottom (row 0) and top (row 15), the agent will not take actions 'DOWN' and 'UP', respectively; at left (column 0) and right (column 23) columns, the agent will not take 'LEFT' and 'RIGHT' actions, respectively. Similalry, the agent will not take actions that lead to shaded region in the maze.\n",
    "\n",
    "## **Q1.a: Class Maze(Problem)** [3 Marks]\n",
    "\n",
    "Write a Maze class to create a model for this problem. You should not use an explicit state space model. The modelling should inherit the abstract class 'Problem' (given below). With the problem formulation, find the shortest path from S to G cell. Propose and implement multiple heuristics (at least two heuristics) for informed search algorithms. "
   ]
  },
  {
   "cell_type": "markdown",
   "metadata": {},
   "source": [
    "## **Q1.b: Analysis of the Algorithms** [7 Marks]\n",
    "\n",
    "1. Solve the above Maze problem using the following algorithms\n",
    "\n",
    "    a. Breadth-First Search \n",
    "\n",
    "    b. Depth-First Search with Cycle-Check\n",
    "\n",
    "    c. Iterative-Deepening Search with Cycle-Check\n",
    "\n",
    "    d. Uniform-Cost Search\n",
    "\n",
    "    e. A* Search \n",
    "\n",
    "    f. Greedy Best-first Search\n",
    "\n",
    "    g. Any other variants for search algorithms that are not discussed in the class (bonus/optional question) \n",
    "\n",
    "2. Identify the number of nodes generated, number of nodes expanded, maximum frontier size, and path-cost for the above algorithms. \n",
    " \n",
    "3. Compare the performance of informed search algorithms with proposed heuristics. Identify the best performing heuristic and explain.\n",
    " \n",
    "4. Draw a bar plot comparing the statistics of the algorithms and explain the results. \n",
    "\n",
    "Note 1: You must follow the problem formulation discussed in the class. A abstract class for Problem amd Node definition is presented below. The search tree generation should follow the template discussed in the class (i.e., Node class, expand methods, etc.). \n",
    "\n",
    "Note 2: If you are borrowing a block of code (for example, helper functions or data structures, etc.) from AIMA4e repository, you have to acknowledge it in the code. \n",
    "\n",
    "Note 3: The code should be written in a single jupyter notebook file."
   ]
  },
  {
   "cell_type": "code",
   "execution_count": 2,
   "metadata": {},
   "outputs": [],
   "source": [
    "class Problem:\n",
    "    \"\"\"The abstract class for a formal problem. A new domain subclasses this,\n",
    "    overriding `actions` and `results`, and perhaps other methods.\n",
    "    The default heuristic is 0 and the default action cost is 1 for all states.\n",
    "    When you create an instance of a subclass, specify `initial`, and `goal` states \n",
    "    (or give an `is_goal` method) and perhaps other keyword args for the subclass.\"\"\"\n",
    "\n",
    "    def __init__(self, initial=None, goal=None, **kwds): \n",
    "        self.__dict__.update(initial=initial, goal=goal, **kwds)\n",
    "        \n",
    "    def actions(self, state):        raise NotImplementedError\n",
    "    def result(self, state, action): raise NotImplementedError\n",
    "    def is_goal(self, state):        return state == self.goal\n",
    "    def action_cost(self, s, a, s1): return 1\n",
    "    def h(self, node):               return 0\n",
    "    \n",
    "    def __str__(self):\n",
    "        return '{}({!r}, {!r})'.format(\n",
    "            type(self).__name__, self.initial, self.goal)"
   ]
  },
  {
   "cell_type": "code",
   "execution_count": 3,
   "metadata": {},
   "outputs": [],
   "source": [
    "# Use the following Node class to generate search tree\n",
    "import math\n",
    "# Defining a named tuple called state for readability\n",
    "# immutability and ephemeral use:\n",
    "NewState = namedtuple('NewState', ['cost', 'coordinates', 'action'])\n",
    "\n",
    "class Node:\n",
    "    \"A Node in a search tree.\"\n",
    "    def __init__(self, state, parent=None, action=None, path_cost=0):\n",
    "        self.__dict__.update(state=state, parent=parent, action=action, path_cost=path_cost)\n",
    "\n",
    "    \n",
    "    def __len__(self): return 0 if self.parent is None else (1 + len(self.parent))\n",
    "    def __lt__(self, other): return self.path_cost < other.path_cost \n",
    "    \n",
    "    # newly defined to assist with trace, and repr redefined\n",
    "    # for readability\n",
    "    def __repr__(self): \n",
    "        return '<state:(x:{},y:{}) path_cost:{} action:{}>'\\\n",
    "                .format(self.state[0], self.state[1], self.path_cost, self.action)\n",
    "    \n",
    "    def __eq__(self, other: Node): \n",
    "        return (self.state == other.state and self.path_cost == other.path_cost)\n",
    "    \n",
    "    def expand_node(self, state: NewState):\n",
    "        expanded_node = Node(state.coordinates)\n",
    "        expanded_node.parent = self\n",
    "        expanded_node.path_cost = self.path_cost + state.cost\n",
    "        expanded_node.action = state.action\n",
    "        return expanded_node\n",
    "    \n",
    "    def expand(self, permissable_actions: List[NewState]):\n",
    "        \"\"\"\n",
    "        Args:\n",
    "            permissable_actions (List[NewState]):\n",
    "                List of possible actions to take\n",
    "        \"\"\"\n",
    "        return list(map(self.expand_node, permissable_actions))\n",
    "    \n",
    "    def __bool__(self):\n",
    "        return True if self.state else False\n",
    "    \n",
    "    def __hash__(self):\n",
    "        # for in set lookup for `visited`\n",
    "        return hash(self.state)"
   ]
  },
  {
   "cell_type": "code",
   "execution_count": 4,
   "metadata": {},
   "outputs": [],
   "source": [
    "class Maze(Problem):\n",
    "    def __init__(self,\n",
    "                 initial: Node,\n",
    "                 goal: Node,\n",
    "                 boundaries: Tuple[int, int],\n",
    "                 action_cost_map: Optional[dict],\n",
    "                 **kwds):\n",
    "        \"\"\"\n",
    "        Add type hints and parameter to know boundaries\n",
    "        given the assumption \"Assume that the agent knows\n",
    "        the boundaries of the maze and has full observability\"\n",
    "        \n",
    "        Args:\n",
    "            initial (Node): Node for the initial state\n",
    "            goal (Node): Node for the goal state\n",
    "            boundaries (Tuple[int,int]):\n",
    "                (rows, cols) of boundaries, assuming (0,0) to (rows,cols) \n",
    "                as problem space\n",
    "        \"\"\"\n",
    "        super().__init__(initial=initial,\n",
    "                         goal=goal,\n",
    "                         boundaries=boundaries,\n",
    "                         action_cost_map=action_cost_map,\n",
    "                         **kwds)\n",
    "    \n",
    "    def action_cost(self, node: Node, action: str) -> int:\n",
    "        \"\"\"\n",
    "        Args:\n",
    "            node (Node): Current node state\n",
    "            action (str): Action to take\n",
    "        \n",
    "        Returns:\n",
    "            int: Cost (s, a, s')\n",
    "        \"\"\"\n",
    "        return self.action_cost_map[action]\n",
    "    \n",
    "    def _transform_permissable_action(self,\n",
    "                                      actions: Tuple[Tuple[int, int], str],\n",
    "                                      node: Node) -> Node:\n",
    "        state, action = actions\n",
    "        action_cost = self.action_cost(node, action)\n",
    "        return NewState(action_cost, state, action)\n",
    "        \n",
    "    def actions(self, node: Node) -> List[Tuple[str, int]]:\n",
    "        \"\"\"\n",
    "        Return permissable actions as list of actions\n",
    "        as (COST, s', ACTION)\n",
    "        Args:\n",
    "            state (Node): Agents current state node\n",
    "        \n",
    "        Returns:\n",
    "            List[Node]:\n",
    "                List of permissable nodes\n",
    "        \"\"\"\n",
    "        x = node.state[0]\n",
    "        y = node.state[1]\n",
    "        parent = node.parent.state if node.parent else None\n",
    "        \n",
    "        permissable_x_y = {((x+1, y), 'UP'),\n",
    "                           ((x-1, y), 'DOWN'),\n",
    "                           ((x, y+1), 'RIGHT'),\n",
    "                           ((x, y-1), 'LEFT')}\n",
    "        \n",
    "        return list(\n",
    "                    map(\n",
    "                        lambda actions: self._transform_permissable_action(actions, node),\n",
    "                        filter(\n",
    "                                lambda actions:\n",
    "                                   # Ensuring they permissable actions are:\n",
    "                                   # * within boundaries\n",
    "                                   # * not a shaded region\n",
    "                                   0<=actions[0][0]<self.boundaries[0] and\n",
    "                                   0<=actions[0][1]<self.boundaries[1] and\n",
    "                                   (actions[0][0], actions[0][1]) not in self.shaded_regions,\n",
    "                               permissable_x_y\n",
    "                        )\n",
    "                )\n",
    "           )\n",
    "    \n",
    "    def h(self, node: Node) -> Union[float, int]:\n",
    "        \"\"\"\n",
    "        Implementing Manhatten distance\n",
    "        Args:\n",
    "            node (Node): Current agent node\n",
    "        \n",
    "        Returns:\n",
    "            Union[float, int]: heuristic value\n",
    "        \"\"\"\n",
    "        return abs(self.goal.state[0]-node.state[0]) +\\\n",
    "                abs(self.goal.state[1]-node.state[1])\n",
    "    \n",
    "    def h2(self, node: Node) -> Union[float, int]:\n",
    "        \"\"\"\n",
    "        Implementing Euclidean distance\n",
    "        Args:\n",
    "            node (Node): Current agent node\n",
    "        \n",
    "        Returns:\n",
    "            Union[float, int]: heuristic value\n",
    "        \"\"\"\n",
    "        return ((self.goal.state[0]-node.state[0])**2 + \n",
    "                (self.goal.state[1]-node.state[1])**2)**(1/2)\n",
    "        \n",
    "        \n",
    "    def __repr__(self):\n",
    "        return '{}({!r}, {!r})'.format(\n",
    "            type(self).__name__, self.initial, self.goal)\n",
    "    \n",
    "    def is_goal(self, node):\n",
    "        return node.state == self.goal.state"
   ]
  },
  {
   "cell_type": "markdown",
   "metadata": {},
   "source": [
    "### Instantiating start and goal nodes"
   ]
  },
  {
   "cell_type": "code",
   "execution_count": 5,
   "metadata": {},
   "outputs": [],
   "source": [
    "start_node = Node((8,10))\n",
    "goal_node = Node((11,9))"
   ]
  },
  {
   "cell_type": "code",
   "execution_count": 6,
   "metadata": {},
   "outputs": [
    {
     "data": {
      "text/plain": [
       "<state:(x:8,y:10) path_cost:0 action:None>"
      ]
     },
     "execution_count": 6,
     "metadata": {},
     "output_type": "execute_result"
    }
   ],
   "source": [
    "start_node"
   ]
  },
  {
   "cell_type": "markdown",
   "metadata": {},
   "source": [
    "### Instantiating maze with start, end, maze size, boundaries, action costs and shaded regions (not known to agent itself)"
   ]
  },
  {
   "cell_type": "code",
   "execution_count": 7,
   "metadata": {},
   "outputs": [],
   "source": [
    "maze = Maze(start_node,\n",
    "            goal_node,\n",
    "            boundaries=(16, 24),\n",
    "            action_cost_map={'LEFT':10, 'RIGHT': 10, 'UP': 1, 'DOWN': 1},\n",
    "            shaded_regions = {(7, 9),\n",
    "                              (6, 9),\n",
    "                              (10, 12),\n",
    "                              (10, 13),\n",
    "                              (11, 12),\n",
    "                              (10, 9),\n",
    "                              (12, 10),\n",
    "                              (9, 9),\n",
    "                              (13, 10),\n",
    "                              (8, 9),\n",
    "                              (11, 13),\n",
    "                              (10, 10),\n",
    "                              (14, 9),\n",
    "                              (11, 10)})"
   ]
  },
  {
   "cell_type": "markdown",
   "metadata": {},
   "source": [
    "### Example path to show permissable actions taking into account restrictions"
   ]
  },
  {
   "cell_type": "code",
   "execution_count": 8,
   "metadata": {},
   "outputs": [],
   "source": [
    "node_1 = Node((0,0))"
   ]
  },
  {
   "cell_type": "code",
   "execution_count": 9,
   "metadata": {},
   "outputs": [
    {
     "data": {
      "text/plain": [
       "[NewState(cost=10, coordinates=(0, 1), action='RIGHT'),\n",
       " NewState(cost=1, coordinates=(1, 0), action='UP')]"
      ]
     },
     "execution_count": 9,
     "metadata": {},
     "output_type": "execute_result"
    }
   ],
   "source": [
    "# List of permissable actions. From 0,0, agent can only move up and right.\n",
    "actions = maze.actions(node_1)\n",
    "actions"
   ]
  },
  {
   "cell_type": "code",
   "execution_count": 10,
   "metadata": {},
   "outputs": [
    {
     "data": {
      "text/plain": [
       "<state:(x:0,y:1) path_cost:10 action:RIGHT>"
      ]
     },
     "execution_count": 10,
     "metadata": {},
     "output_type": "execute_result"
    }
   ],
   "source": [
    "# Taking the right\n",
    "expanded_node_1 = node_1.expand(actions)[0] # picking a child to then expand\n",
    "expanded_node_1"
   ]
  },
  {
   "cell_type": "code",
   "execution_count": 11,
   "metadata": {},
   "outputs": [
    {
     "data": {
      "text/plain": [
       "[NewState(cost=10, coordinates=(0, 0), action='LEFT'),\n",
       " NewState(cost=1, coordinates=(1, 1), action='UP'),\n",
       " NewState(cost=10, coordinates=(0, 2), action='RIGHT')]"
      ]
     },
     "execution_count": 11,
     "metadata": {},
     "output_type": "execute_result"
    }
   ],
   "source": [
    "actions_2 = maze.actions(expanded_node_1)\n",
    "actions_2"
   ]
  },
  {
   "cell_type": "code",
   "execution_count": 12,
   "metadata": {},
   "outputs": [],
   "source": [
    "expanded_node_2 = expanded_node_1.expand(actions_2)[0]"
   ]
  },
  {
   "cell_type": "code",
   "execution_count": 13,
   "metadata": {},
   "outputs": [
    {
     "data": {
      "text/plain": [
       "<state:(x:0,y:0) path_cost:20 action:LEFT>"
      ]
     },
     "execution_count": 13,
     "metadata": {},
     "output_type": "execute_result"
    }
   ],
   "source": [
    "expanded_node_2"
   ]
  },
  {
   "cell_type": "code",
   "execution_count": 14,
   "metadata": {},
   "outputs": [],
   "source": [
    "def trace_all_actions_taken(state: Node) -> List[str]:\n",
    "    \"\"\"\n",
    "    Return path taken given node\n",
    "    Args:\n",
    "        state (Node): Node of a path\n",
    "    \n",
    "    Returns:\n",
    "        List[str]:\n",
    "            Actions taken in order from start\n",
    "    \"\"\"\n",
    "    all_actions = []\n",
    "    while state.action != None:\n",
    "        all_actions.append(state.action)\n",
    "        state = state.parent\n",
    "    return all_actions[::-1] # reverse it back"
   ]
  },
  {
   "cell_type": "code",
   "execution_count": 15,
   "metadata": {},
   "outputs": [
    {
     "data": {
      "text/plain": [
       "['RIGHT', 'LEFT']"
      ]
     },
     "execution_count": 15,
     "metadata": {},
     "output_type": "execute_result"
    }
   ],
   "source": [
    "trace_all_actions_taken(expanded_node_2)"
   ]
  },
  {
   "cell_type": "code",
   "execution_count": 16,
   "metadata": {},
   "outputs": [
    {
     "data": {
      "text/plain": [
       "[NewState(cost=1, coordinates=(9, 11), action='DOWN'),\n",
       " NewState(cost=1, coordinates=(11, 11), action='UP')]"
      ]
     },
     "execution_count": 16,
     "metadata": {},
     "output_type": "execute_result"
    }
   ],
   "source": [
    "# Example of where agent will only be able to choose\n",
    "# up/down due to shaded areas\n",
    "maze.actions(Node((10,11)))"
   ]
  },
  {
   "cell_type": "markdown",
   "metadata": {},
   "source": [
    "### Per the comparison dunder method defined, comparing the nodes so far yields that node_2 has a higher pathcost than node_1"
   ]
  },
  {
   "cell_type": "code",
   "execution_count": 17,
   "metadata": {},
   "outputs": [
    {
     "data": {
      "text/plain": [
       "False"
      ]
     },
     "execution_count": 17,
     "metadata": {},
     "output_type": "execute_result"
    }
   ],
   "source": [
    "expanded_node_2 < expanded_node_1"
   ]
  },
  {
   "cell_type": "markdown",
   "metadata": {},
   "source": [
    "### Test Search"
   ]
  },
  {
   "cell_type": "code",
   "execution_count": 18,
   "metadata": {},
   "outputs": [],
   "source": [
    "def bfs_search(maze: Maze) -> (Node, set):\n",
    "    \"\"\"\n",
    "    Args:\n",
    "        maze (Maze): Maze class to run the search on\n",
    "    \n",
    "    Returns:\n",
    "        solution (Node):\n",
    "            Node for which the solution was found\n",
    "        visited (set):\n",
    "            Set for which was visited\n",
    "    \"\"\"\n",
    "    initial_node = maze.initial\n",
    "    frontier = deque([initial_node])\n",
    "    visited = set()\n",
    "    while frontier:\n",
    "        frontier_node = frontier.popleft()\n",
    "        actions = maze.actions(frontier_node)\n",
    "        for child in frontier_node.expand(actions):\n",
    "            if maze.is_goal(child):\n",
    "                return child, visited\n",
    "            if child not in visited:\n",
    "                visited.add(child)\n",
    "                frontier.append(child)\n",
    "    raise Exception('Unable to find target')"
   ]
  },
  {
   "cell_type": "code",
   "execution_count": 19,
   "metadata": {},
   "outputs": [],
   "source": [
    "child, visited = bfs_search(maze)"
   ]
  },
  {
   "cell_type": "code",
   "execution_count": 20,
   "metadata": {},
   "outputs": [
    {
     "name": "stdout",
     "output_type": "stream",
     "text": [
      "Nodes explored: 1123\n"
     ]
    }
   ],
   "source": [
    "print(f\"Nodes explored: {len(visited)}\")"
   ]
  },
  {
   "cell_type": "code",
   "execution_count": 21,
   "metadata": {},
   "outputs": [],
   "source": [
    "def informed_search(\n",
    "        maze: Maze,\n",
    "        f: Callable\n",
    "    ) -> (Node, set):\n",
    "    \"\"\"\n",
    "    Args:\n",
    "        maze (Maze): Maze to run search on\n",
    "        f (Callable)\n",
    "    \n",
    "    Returns:\n",
    "        child (Node): Solution node\n",
    "        visited (set): Visited set\n",
    "    \"\"\"\n",
    "    initial_node = maze.initial\n",
    "    \n",
    "    frontier = [(f(initial_node), initial_node)]\n",
    "    visited = {maze.initial.state: maze.initial}\n",
    "    \n",
    "    expanded = [] # remove\n",
    "    \n",
    "    while frontier:\n",
    "        heuristic, frontier_node = heappop(frontier)        \n",
    "        actions = maze.actions(frontier_node)\n",
    "        if maze.is_goal(frontier_node):\n",
    "            return frontier_node, expanded # expanded\n",
    "        \n",
    "        for child in frontier_node.expand(actions):\n",
    "            expanded.append((child.state, 'expand'))\n",
    "            if child.state not in visited or child.path_cost < visited[child.state].path_cost:\n",
    "                visited[child.state] = child\n",
    "                heappush(frontier, (f(child), child))\n",
    "    raise Exception('Unable to find target')"
   ]
  },
  {
   "cell_type": "code",
   "execution_count": 22,
   "metadata": {},
   "outputs": [],
   "source": [
    "def greedy_best_first_search(\n",
    "        maze: Maze,\n",
    "        h:Literal['h', 'h2']\n",
    "    ) -> (Node, set):\n",
    "    \"\"\"\n",
    "    Args:\n",
    "        maze (Maze): Maze to run search on\n",
    "        h (Literal['h', 'h2']):\n",
    "            h for Manhatten distance\n",
    "            h2 for Euclidean distance\n",
    "    \n",
    "    Returns:\n",
    "        child (Node): Solution node\n",
    "        visited (set): Visited set\n",
    "    \"\"\"\n",
    "    initial_node = maze.initial\n",
    "    h = getattr(maze, h)\n",
    "    \n",
    "    frontier = [(h(initial_node), initial_node)]\n",
    "    visited = set()\n",
    "    \n",
    "    while frontier:\n",
    "        heuristic, frontier_node = heappop(frontier)\n",
    "        \n",
    "        print(f'Heuristic value: {heuristic} Coord:{frontier_node.state}')\n",
    "        \n",
    "        actions = maze.actions(frontier_node)\n",
    "        for child in frontier_node.expand(actions):\n",
    "            if child.state not in visited:\n",
    "                if maze.is_goal(child):\n",
    "                    return child, visited\n",
    "                else:\n",
    "                    visited.add(child.state)\n",
    "                    heappush(frontier, (h(child), child))\n",
    "    raise Exception('Unable to find target')"
   ]
  },
  {
   "cell_type": "code",
   "execution_count": 23,
   "metadata": {},
   "outputs": [
    {
     "name": "stdout",
     "output_type": "stream",
     "text": [
      "Heuristic value: 4 Coord:(8, 10)\n",
      "Heuristic value: 3 Coord:(9, 10)\n",
      "Heuristic value: 4 Coord:(8, 10)\n",
      "Heuristic value: 4 Coord:(9, 11)\n",
      "Heuristic value: 3 Coord:(10, 11)\n",
      "Heuristic value: 2 Coord:(11, 11)\n",
      "Heuristic value: 3 Coord:(12, 11)\n",
      "Heuristic value: 4 Coord:(13, 11)\n",
      "Heuristic value: 4 Coord:(12, 12)\n",
      "Heuristic value: 5 Coord:(7, 10)\n",
      "Heuristic value: 5 Coord:(8, 11)\n",
      "Heuristic value: 5 Coord:(14, 11)\n",
      "Heuristic value: 4 Coord:(14, 10)\n",
      "Heuristic value: 5 Coord:(9, 12)\n",
      "Heuristic value: 5 Coord:(13, 12)\n",
      "Heuristic value: 5 Coord:(15, 10)\n",
      "Heuristic value: 4 Coord:(15, 9)\n",
      "Heuristic value: 5 Coord:(12, 13)\n",
      "Heuristic value: 5 Coord:(15, 8)\n",
      "Heuristic value: 4 Coord:(14, 8)\n",
      "Heuristic value: 3 Coord:(13, 8)\n",
      "Heuristic value: 2 Coord:(12, 8)\n",
      "Heuristic value: 1 Coord:(11, 8)\n",
      "Nodes explored: 37\n"
     ]
    }
   ],
   "source": [
    "child, visited = greedy_best_first_search(maze, 'h')\n",
    "print(f\"Nodes explored: {len(visited)}\")"
   ]
  },
  {
   "cell_type": "markdown",
   "metadata": {},
   "source": [
    "### Fun stuff"
   ]
  },
  {
   "cell_type": "code",
   "execution_count": 24,
   "metadata": {},
   "outputs": [],
   "source": [
    "# %matplotlib notebook\n",
    "\n",
    "import matplotlib.pyplot as plt\n",
    "from matplotlib import colors\n",
    "\n",
    "import matplotlib.animation as animation"
   ]
  },
  {
   "cell_type": "code",
   "execution_count": 25,
   "metadata": {},
   "outputs": [],
   "source": [
    "def plot_state(draw_maze, \n",
    "               coord:Tuple[int, int],\n",
    "               marker_type:Literal['start', 'end', 'path', 'expand', 'barrier']):\n",
    "    mapping = {\n",
    "        'start': 10,\n",
    "        'end': 20,\n",
    "        'expand': 30,\n",
    "        'path': 40,\n",
    "        'barrier': 50,\n",
    "        'replace': 60\n",
    "    }\n",
    "    draw_maze[-(coord[0]+1)][coord[1]] = mapping[marker_type]\n",
    "    return draw_maze\n",
    "\n",
    "def init_maze(maze):\n",
    "    cols = maze.boundaries[1]\n",
    "    rows = maze.boundaries[0]\n",
    "    draw_maze = [[0 for j in range(cols)]\n",
    "                     for i in range(rows)]\n",
    "    \n",
    "    draw_maze = plot_state(draw_maze, maze.initial.state, 'start')\n",
    "    draw_maze = plot_state(draw_maze, maze.goal.state, 'end')\n",
    "    \n",
    "    for barrier in maze.shaded_regions:\n",
    "        draw_maze = plot_state(draw_maze, barrier, 'barrier')\n",
    "    \n",
    "    return draw_maze"
   ]
  },
  {
   "cell_type": "code",
   "execution_count": 26,
   "metadata": {},
   "outputs": [],
   "source": [
    "def bfs_search_animated(maze: Maze):\n",
    "    initial_node = maze.initial\n",
    "    frontier = deque([initial_node])\n",
    "    visited = set([initial_node.state])\n",
    "    \n",
    "    expanded = []\n",
    "    while frontier:\n",
    "        frontier_node = frontier.popleft()\n",
    "        actions = maze.actions(frontier_node)\n",
    "        for child in frontier_node.expand(actions):\n",
    "            # for animation\n",
    "            expanded.append((child.state, 'expand'))\n",
    "            \n",
    "            if maze.is_goal(child):\n",
    "                return child, expanded\n",
    "            if child.state not in visited:\n",
    "                visited.add(child.state)\n",
    "                frontier.append(child)\n",
    "    raise Exception(\"Solution not found\")"
   ]
  },
  {
   "cell_type": "code",
   "execution_count": 27,
   "metadata": {},
   "outputs": [],
   "source": [
    "# def greedy_best_first_search_animated(maze: Maze, h:Literal['h', 'h2']):\n",
    "#     initial_node = maze.initial\n",
    "#     h = getattr(maze, h)\n",
    "    \n",
    "#     frontier = [(h(initial_node), initial_node)]\n",
    "#     visited = set()\n",
    "#     expanded = []\n",
    "    \n",
    "#     while frontier:\n",
    "#         heuristic, frontier_node = heappop(frontier)\n",
    "        \n",
    "#         print(f'{(heuristic, frontier_node.state)}')\n",
    "        \n",
    "#         actions = maze.actions(frontier_node)\n",
    "#         for child in frontier_node.expand(actions):\n",
    "#             expanded.append((child.state, 'expand'))\n",
    "#             if child not in visited:\n",
    "#                 if maze.is_goal(child):\n",
    "#                     return child, expanded\n",
    "#                 else:\n",
    "#                     visited.add(child)\n",
    "#                     heappush(frontier, (h(child), child))\n",
    "#     raise Exception('Unable to find target')"
   ]
  },
  {
   "cell_type": "code",
   "execution_count": 28,
   "metadata": {},
   "outputs": [],
   "source": [
    "def trace_all_states_taken(state: Node) -> List[str]:\n",
    "    \"\"\"\n",
    "    Return path taken given node\n",
    "    Args:\n",
    "        state (Node): Node of a path\n",
    "    \n",
    "    Returns:\n",
    "        List[str]:\n",
    "            Actions taken in order from start\n",
    "    \"\"\"\n",
    "    all_actions = []\n",
    "    while state.action != None:\n",
    "        all_actions.append((state.state, 'path'))\n",
    "        state = state.parent\n",
    "    return all_actions"
   ]
  },
  {
   "cell_type": "code",
   "execution_count": 29,
   "metadata": {},
   "outputs": [],
   "source": [
    "def get_expanded_from_algo(\n",
    "        maze: Maze,\n",
    "        algo_func: Callable\n",
    "    ) -> List[Node]:\n",
    "    \"\"\"\n",
    "    Helper function to create the expand list\n",
    "    Args:\n",
    "        maze (Maze): Maze instance\n",
    "        algo_func (Callable): Algo to run\n",
    "    \"\"\"\n",
    "    algo_goal, algo_expanded = algo_func(maze)\n",
    "    algo_expanded.extend(trace_all_states_taken(algo_goal))\n",
    "    return algo_expanded"
   ]
  },
  {
   "cell_type": "code",
   "execution_count": 30,
   "metadata": {
    "scrolled": true
   },
   "outputs": [],
   "source": [
    "from IPython.display import Video\n",
    "\n",
    "def animate_algo(maze, \n",
    "                 expanded: List[Tuple[int,int], str], \n",
    "                 filename:str) -> str:\n",
    "    \"\"\"\n",
    "    Args:\n",
    "        expanded (List[Tuple[int,int], str):\n",
    "            List of coordinate pairs and markers to display\n",
    "        filename (str):\n",
    "            Filename to save the video file of the algo as\n",
    "    \n",
    "    Returns:\n",
    "        str: filename to play using IPython.display.Video\n",
    "    \"\"\"\n",
    "    maze_map = init_maze(maze)\n",
    "\n",
    "    def tick_range(n):\n",
    "        value = -0.5\n",
    "        arr = [value]\n",
    "        while value < n-1:\n",
    "            value += 1\n",
    "            arr.append(value)\n",
    "        return arr\n",
    "    \n",
    "    fig, ax = plt.subplots()\n",
    "    cmap = colors.ListedColormap(\n",
    "            ['white','green','red','blue', 'green', 'black', 'grey']\n",
    "    )\n",
    "    bounds = [0,10,20,30,40,50,60,70]\n",
    "    norm = colors.BoundaryNorm(bounds, cmap.N)\n",
    "    data = ax.imshow(maze_map, cmap=cmap, norm=norm)\n",
    "    ax.grid(which='major', axis='both', linestyle='-', color='k', linewidth=2)\n",
    "    rows=maze.boundaries[0]\n",
    "    cols=maze.boundaries[1]\n",
    "    col_ticks = tick_range(cols)\n",
    "    row_ticks = tick_range(rows)\n",
    "    ax.set_xticks(col_ticks)\n",
    "    ax.set_yticks(row_ticks)\n",
    "    ax.set_xticklabels(list(map(lambda x: int(x+0.5), col_ticks)))\n",
    "    ax.set_yticklabels(list(map(lambda x: int(x+0.5), row_ticks[::-1])))\n",
    "    \n",
    "    def animate_func(i, maze_map):\n",
    "        maze_map = plot_state(maze_map,\n",
    "                              expanded[i][0],\n",
    "                              expanded[i][1])\n",
    "        data.set_data(maze_map)\n",
    "        return [data]\n",
    "\n",
    "    anim = animation.FuncAnimation(fig, \n",
    "                                   animate_func,\n",
    "                                   frames=len(expanded),\n",
    "                                   interval=30,\n",
    "                                   fargs=(maze_map,),\n",
    "                                   repeat=False)\n",
    "    anim.save(filename, writer='ffmpeg') # to save\n",
    "    return filename"
   ]
  },
  {
   "cell_type": "code",
   "execution_count": 31,
   "metadata": {},
   "outputs": [],
   "source": [
    "def save_and_view_visualisation(\n",
    "        algo: Literal['Breadth first search',\n",
    "                      'Greedy best first search']\n",
    "    ) -> Video:\n",
    "    if algo not in ALGO_MAP:\n",
    "        raise Exception('Please provide a corresponding algo name')\n",
    "    expanded = get_expanded_from_algo(maze, ALGO_MAP[algo])\n",
    "    return Video(animate_algo(maze, expanded, f'{algo}.mp4'))"
   ]
  },
  {
   "cell_type": "code",
   "execution_count": 32,
   "metadata": {
    "scrolled": false
   },
   "outputs": [
    {
     "name": "stdout",
     "output_type": "stream",
     "text": [
      "Replaced (12, 8) 327 347\n",
      "Replaced (12, 9) 337 357\n",
      "Replaced (12, 7) 337 357\n",
      "Replaced (12, 8) 327 347\n",
      "Replaced (12, 9) 337 357\n",
      "Replaced (12, 7) 337 357\n"
     ]
    },
    {
     "data": {
      "text/html": [
       "<video src=\"replacement.mp4\" controls  >\n",
       "      Your browser does not support the <code>video</code> element.\n",
       "    </video>"
      ],
      "text/plain": [
       "<IPython.core.display.Video object>"
      ]
     },
     "execution_count": 32,
     "metadata": {},
     "output_type": "execute_result"
    },
    {
     "data": {
      "image/png": "[encoded data removed]",
      "text/plain": [
       "<Figure size 432x288 with 1 Axes>"
      ]
     },
     "metadata": {
      "needs_background": "light"
     },
     "output_type": "display_data"
    }
   ],
   "source": [
    "# Testing replacement on lower path cost found\n",
    "maze = Maze(start_node,\n",
    "            goal_node,\n",
    "            boundaries=(16, 24),\n",
    "            action_cost_map={\n",
    "                             'LEFT':10,\n",
    "                             'RIGHT': 10,\n",
    "                             'UP': 1,\n",
    "                             'DOWN': 100 # Expensive action\n",
    "                            },\n",
    "            shaded_regions = {(7, 9),\n",
    "                              (6, 9),\n",
    "                              (10, 12),\n",
    "                              (10, 13),\n",
    "                              (11, 12),\n",
    "                              (10, 9),\n",
    "                              (12, 10),\n",
    "                              (9, 9),\n",
    "                              (13, 10),\n",
    "                              (8, 9),\n",
    "                              (11, 13),\n",
    "                              (10, 10),\n",
    "                              (14, 9),\n",
    "                              (11, 10)})\n",
    "\n",
    "def informed_search(\n",
    "        maze: Maze,\n",
    "        f: Callable\n",
    "    ) -> (Node, set):\n",
    "    \"\"\"\n",
    "    Args:\n",
    "        maze (Maze): Maze to run search on\n",
    "        f (Callable)\n",
    "    \n",
    "    Returns:\n",
    "        child (Node): Solution node\n",
    "        visited (set): Visited set\n",
    "    \"\"\"\n",
    "    initial_node = maze.initial\n",
    "    \n",
    "    frontier = [(f(initial_node), initial_node)]\n",
    "    visited = {maze.initial.state: maze.initial}\n",
    "    \n",
    "    expanded = [] # remove\n",
    "    \n",
    "    while frontier:\n",
    "        heuristic, frontier_node = heappop(frontier)\n",
    "        \n",
    "        actions = maze.actions(frontier_node)\n",
    "        if maze.is_goal(frontier_node):\n",
    "            return frontier_node, expanded\n",
    "        \n",
    "        for child in frontier_node.expand(actions):\n",
    "            expanded.append((child.state, 'expand'))\n",
    "            if child.state not in visited or child.path_cost < visited[child.state].path_cost:\n",
    "                if child.state in visited:\n",
    "                    if child.path_cost < visited[child.state].path_cost:\n",
    "                        print('Replaced', child.state, child.path_cost, visited[child.state].path_cost)\n",
    "                        expanded.append((child.state, 'replace'))\n",
    "                visited[child.state] = child\n",
    "                heappush(frontier, (f(child), child))\n",
    "    raise Exception('Unable to find target')\n",
    "\n",
    "import random\n",
    "def h(action):\n",
    "    if action == 'DOWN':\n",
    "        return -5\n",
    "    return 10\n",
    "\n",
    "child, expanded = informed_search(maze, lambda node: node.path_cost + h(node.action))\n",
    "informed_search_partial = partial(informed_search, f=lambda node: node.path_cost + maze.h(node))\n",
    "Video(animate_algo(maze, get_expanded_from_algo(maze, informed_search_partial), filename='replacement.mp4'))"
   ]
  },
  {
   "cell_type": "code",
   "execution_count": null,
   "metadata": {},
   "outputs": [],
   "source": [
    "ALGO_MAP = {\n",
    "    'Breadth first search': bfs_search_animated,\n",
    "    'Greedy best first search h': partial(informed_search, f=lambda node: maze.h(node)),\n",
    "    'Greedy best first search h2': partial(informed_search, f=lambda node: maze.h2(node)),\n",
    "    'UCS': partial(informed_search, f=lambda node: node.path_cost + 0),\n",
    "    'A* h': partial(informed_search, f=lambda node: node.path_cost + maze.h(node)),\n",
    "    'A* h2': partial(informed_search, f=lambda node: node.path_cost + maze.h2(node))\n",
    "}\n",
    "save_and_view_visualisation('Breadth first search')"
   ]
  },
  {
   "cell_type": "markdown",
   "metadata": {},
   "source": [
    "### Heuristics 1 and 2\n",
    "Defining an arbitrary node"
   ]
  },
  {
   "cell_type": "code",
   "execution_count": null,
   "metadata": {},
   "outputs": [],
   "source": [
    "intermediate_node = Node((9,10))"
   ]
  },
  {
   "cell_type": "code",
   "execution_count": null,
   "metadata": {},
   "outputs": [],
   "source": [
    "print(f\"Manhatten distance: {maze.h(intermediate_node)}\")\n",
    "print(f\"Euclidean distance: {maze.h2(intermediate_node)}\")"
   ]
  },
  {
   "cell_type": "code",
   "execution_count": null,
   "metadata": {},
   "outputs": [],
   "source": [
    "# Tests, please ignore but use for testing classes\n",
    "print(start_node == Node((8,10)))\n",
    "print(goal_node == Node((11, 9)))"
   ]
  },
  {
   "cell_type": "code",
   "execution_count": null,
   "metadata": {},
   "outputs": [],
   "source": []
  }
 ],
 "metadata": {
  "kernelspec": {
   "display_name": "Python 3 (ipykernel)",
   "language": "python",
   "name": "python3"
  },
  "language_info": {
   "codemirror_mode": {
    "name": "ipython",
    "version": 3
   },
   "file_extension": ".py",
   "mimetype": "text/x-python",
   "name": "python",
   "nbconvert_exporter": "python",
   "pygments_lexer": "ipython3",
   "version": "3.7.11"
  },
  "vscode": {
   "interpreter": {
    "hash": "85c6d5c81e07e5df96d46470b5f31cdc60bf99937c21eb8030f5ac9c2291ee2f"
   }
  }
 },
 "nbformat": 4,
 "nbformat_minor": 2
}
