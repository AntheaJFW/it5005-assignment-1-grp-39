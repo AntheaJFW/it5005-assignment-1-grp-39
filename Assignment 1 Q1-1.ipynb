{
 "cells": [
  {
   "cell_type": "markdown",
   "metadata": {},
   "source": [
    "Group Name: AG xx.\n",
    "\n",
    "Student Name (Student ID):\n",
    "\n",
    "1. Wong Ji Fong (A0249572U)\n",
    "\n",
    "2. xxxx xxxxx (xxxxxxx)\n",
    "\n",
    "3. xxxx xxxxx (xxxxxxx)"
   ]
  },
  {
   "cell_type": "code",
   "execution_count": 1,
   "metadata": {},
   "outputs": [],
   "source": [
    "# Type hinting is used within this document to help understand parameters\n",
    "from __future__ import annotations\n",
    "from typing import Tuple, List, Optional, Set, Union, Generator\n",
    "from heapq import heappush"
   ]
  },
  {
   "cell_type": "markdown",
   "metadata": {},
   "source": [
    "# Question 1\n",
    "\n",
    "Consider the maze shown below. The Maze has 16 rows and 24 columns The objective is to find a shortest path from cell $S$ to cell $G$.\n",
    "\n",
    "\n",
    "![Maze](Maze_Assignment_1-1.jpg)\n",
    "\n",
    "\n",
    "The agent can take four actions in each cell: 'RIGHT', 'DOWN', 'UP', 'LEFT'.  \n",
    "\n",
    "Each cell is represented as $(x,y)$, where $x$ indicates row number and $y$ indicates column number. Action 'UP' takes the agent from cell $(x,y)$ to $(x+1,y)$. Action 'DOWN' takes the agent from cell $(x,y)$ to $(x-1,y)$. Action 'RIGHT' takes the agent from cell $(x,y)$ to $(x,y+1)$. Action 'LEFT' takes the agent from cell $(x,y)$ to $(x,y-1)$. The triplet $(s,a,s')$  indicates that taking action $a$ at state $s$ leads to state $s'$. Actions 'LEFT' or 'RIGHT' cost 10 units for all $(s,a,s')$. Actions 'UP' or 'DOWN' cost 1 unit for all  $(s,a,s')$.  The agent cannot move into cells that are shaded. Assume that the agent knows the boundaries of the maze and has full observability. Consequently, at the bottom (row 0) and top (row 15), the agent will not take actions 'DOWN' and 'UP', respectively; at left (column 0) and right (column 23) columns, the agent will not take 'LEFT' and 'RIGHT' actions, respectively. Similalry, the agent will not take actions that lead to shaded region in the maze.\n",
    "\n",
    "## **Q1.a: Class Maze(Problem)** [3 Marks]\n",
    "\n",
    "Write a Maze class to create a model for this problem. You should not use an explicit state space model. The modelling should inherit the abstract class 'Problem' (given below). With the problem formulation, find the shortest path from S to G cell. Propose and implement multiple heuristics (at least two heuristics) for informed search algorithms. "
   ]
  },
  {
   "cell_type": "markdown",
   "metadata": {},
   "source": [
    "## **Q1.b: Analysis of the Algorithms** [7 Marks]\n",
    "\n",
    "1. Solve the above Maze problem using the following algorithms\n",
    "\n",
    "    a. Breadth-First Search\n",
    "\n",
    "    b. Depth-First Search with Cycle-Check\n",
    "\n",
    "    c. Iterative-Deepening Search with Cycle-Check\n",
    "\n",
    "    d. Uniform-Cost Search\n",
    "\n",
    "    e. A* Search \n",
    "\n",
    "    f. Greedy Best-first Search\n",
    "\n",
    "    g. Any other variants for search algorithms that are not discussed in the class (bonus/optional question) \n",
    "\n",
    "2. Identify the number of nodes generated, number of nodes expanded, maximum frontier size, and path-cost for the above algorithms. \n",
    " \n",
    "3. Compare the performance of informed search algorithms with proposed heuristics. Identify the best performing heuristic and explain.\n",
    " \n",
    "4. Draw a bar plot comparing the statistics of the algorithms and explain the results. \n",
    "\n",
    "Note 1: You must follow the problem formulation discussed in the class. A abstract class for Problem amd Node definition is presented below. The search tree generation should follow the template discussed in the class (i.e., Node class, expand methods, etc.). \n",
    "\n",
    "Note 2: If you are borrowing a block of code (for example, helper functions or data structures, etc.) from AIMA4e repository, you have to acknowledge it in the code. \n",
    "\n",
    "Note 3: The code should be written in a single jupyter notebook file."
   ]
  },
  {
   "cell_type": "code",
   "execution_count": 2,
   "metadata": {},
   "outputs": [],
   "source": [
    "class Problem:\n",
    "    \"\"\"The abstract class for a formal problem. A new domain subclasses this,\n",
    "    overriding `actions` and `results`, and perhaps other methods.\n",
    "    The default heuristic is 0 and the default action cost is 1 for all states.\n",
    "    When you create an instance of a subclass, specify `initial`, and `goal` states \n",
    "    (or give an `is_goal` method) and perhaps other keyword args for the subclass.\"\"\"\n",
    "\n",
    "    def __init__(self, initial=None, goal=None, **kwds): \n",
    "        self.__dict__.update(initial=initial, goal=goal, **kwds) \n",
    "        \n",
    "    def actions(self, state):        raise NotImplementedError\n",
    "    def result(self, state, action): raise NotImplementedError\n",
    "    def is_goal(self, state):        return state == self.goal\n",
    "    def action_cost(self, s, a, s1): return 1\n",
    "    def h(self, node):               return 0\n",
    "    \n",
    "    def __str__(self):\n",
    "        return '{}({!r}, {!r})'.format(\n",
    "            type(self).__name__, self.initial, self.goal)"
   ]
  },
  {
   "cell_type": "code",
   "execution_count": 3,
   "metadata": {},
   "outputs": [],
   "source": [
    "# Use the following Node class to generate search tree\n",
    "import math\n",
    "\n",
    "class Node:\n",
    "    \"A Node in a search tree.\"\n",
    "    def __init__(self, state, parent=None, action=None, path_cost=0):\n",
    "        self.__dict__.update(state=state, parent=parent, action=action, path_cost=path_cost)\n",
    "\n",
    "    \n",
    "    def __len__(self): return 0 if self.parent is None else (1 + len(self.parent))\n",
    "    def __lt__(self, other): return self.path_cost < other.path_cost \n",
    "    \n",
    "    # newly defined to assist with trace, and repr redefined\n",
    "    def __repr__(self): \n",
    "        return '<state:{} path_cost:{} action:{}>'\\\n",
    "                .format(self.state, self.path_cost, self.action)\n",
    "    def __eq__(self, other: Node): return self.state == other.state\n",
    "    def set_parent(self, other: Node, action_cost: int, action: str):\n",
    "        \"\"\"\n",
    "        Args:\n",
    "            other (Node): The other node which to assign as parent node\n",
    "            action_cost (int): Cost of the action taken to take this node\n",
    "            action (str): The action taken from parent to this node\n",
    "        \"\"\"\n",
    "        self.parent = other\n",
    "        self.path_cost = other.path_cost + action_cost\n",
    "        self.action = action\n",
    "        return self\n",
    "    \n",
    "    def __bool__(self):\n",
    "        return True if self.state else False"
   ]
  },
  {
   "cell_type": "code",
   "execution_count": 4,
   "metadata": {},
   "outputs": [],
   "source": [
    "class Maze(Problem):\n",
    "    def __init__(self,\n",
    "                 initial: Node,\n",
    "                 goal: Node,\n",
    "                 boundaries: Tuple[int, int],\n",
    "                 action_cost_map: Optional[dict],\n",
    "                 visited: Optional[List[Node]]=None,\n",
    "                 ds: Literal['list', 'pq']='list',\n",
    "                 **kwds):\n",
    "        \"\"\"\n",
    "        Add type hints and parameter to know boundaries\n",
    "        given the assumption \"Assume that the agent knows\n",
    "        the boundaries of the maze and has full observability\"\n",
    "        \n",
    "        Args:\n",
    "            initial (Node): Node for the initial state\n",
    "            goal (Node): Node for the goal state\n",
    "            boundaries (Tuple[int,int]):\n",
    "                (rows, cols) of boundaries, assuming (0,0) to (rows,cols) \n",
    "                as problem space\n",
    "            visited (Optional[List[Node]]):\n",
    "                If the search algorithm require a visited list / priority queue\n",
    "                this should be provided\n",
    "            ds (Callable):\n",
    "                DS to store the actions in. e.g. list or heapify\n",
    "        \"\"\"\n",
    "        if ds not in {'list', 'pq'}:\n",
    "            raise Exception(\"param `ds` should be one of {'list', 'pq'}\")\n",
    "        super().__init__(initial=initial,\n",
    "                         goal=goal,\n",
    "                         boundaries=boundaries,\n",
    "                         action_cost_map=action_cost_map,\n",
    "                         visited=visited,\n",
    "                         ds=ds,\n",
    "                         **kwds)\n",
    "    \n",
    "    def action_cost(self, s: Node, a: str, s1: Node) -> int:\n",
    "        \"\"\"\n",
    "        Args:\n",
    "            s (Node): Node from current state\n",
    "            a (str): Action to take\n",
    "            s1 (Node): Node to travel to\n",
    "        \n",
    "        Returns:\n",
    "            int: Cost (s, a, s')\n",
    "        \"\"\"\n",
    "        return self.action_cost_map[a]\n",
    "    \n",
    "    def _transform_permissable_action(self,\n",
    "                                      actions: Tuple[Tuple[int, int], str],\n",
    "                                     current_node: Node) -> Tuple[int, Node, str]:\n",
    "        state, action = actions\n",
    "        new_node = Node(state)\n",
    "        \n",
    "        action_cost = self.action_cost(state, action, new_node)\n",
    "        new_node.set_parent(current_node, action_cost, action)\n",
    "        return new_node\n",
    "    \n",
    "    def _transform_ds(self, permissable_actions: Generator[Node]) -> List:\n",
    "        if self.ds == 'list':\n",
    "            return list(permissable_actions)\n",
    "        \n",
    "        actions = []\n",
    "        for action in permissable_actions:\n",
    "            heappush(actions, action)\n",
    "        return actions\n",
    "        \n",
    "    def actions(self, state: Node) -> List[Tuple[str, int]]:\n",
    "        \"\"\"\n",
    "        Return permissable actions as list of actions\n",
    "        as (COST, s', ACTION)\n",
    "        Args:\n",
    "            state (Node): Agents current state node\n",
    "        \n",
    "        Returns:\n",
    "            List[Node]:\n",
    "                List of permissable nodes\n",
    "        \"\"\"\n",
    "        x = state.state[0]\n",
    "        y = state.state[1]\n",
    "        parent = state.parent.state if state.parent else None\n",
    "        \n",
    "        permissable_x_y = {((x, y+1), 'UP'),\n",
    "                           ((x, y-1), 'DOWN'),\n",
    "                           ((x+1, y), 'RIGHT'),\n",
    "                           ((x-1,y), 'LEFT')}\n",
    "        \n",
    "        return self._transform_ds(\n",
    "                map(\n",
    "                        lambda actions: self._transform_permissable_action(actions, state),\n",
    "                        filter(\n",
    "                            lambda actions:\n",
    "                                   # Ensuring they permissable actions are:\n",
    "                                   # * within boundaries\n",
    "                                   # * not parent, previous node\n",
    "                                   # * not a shaded region\n",
    "                                   0<=actions[0][0]<=self.boundaries[0] and\n",
    "                                   0<=actions[0][1]<=self.boundaries[1] and\n",
    "                                   (actions[0][0], actions[0][1]) != parent and\n",
    "                                   (actions[0][0], actions[0][1]) not in self.shaded_regions,\n",
    "                               permissable_x_y\n",
    "                        )\n",
    "                )\n",
    "        )\n",
    "    \n",
    "    def h(self, node: Node) -> Union[float, int]:\n",
    "        \"\"\"\n",
    "        Implementing Manhatten distance\n",
    "        Args:\n",
    "            node (Node): Current agent node\n",
    "        \n",
    "        Returns:\n",
    "            Union[float, int]: heuristic value\n",
    "        \"\"\"\n",
    "        return abs(self.goal.state[0]-node.state[0]) + abs(self.goal.state[1]-node.state[1])\n",
    "    \n",
    "    def h2(self, node: Node) -> Union[float, int]:\n",
    "        \"\"\"\n",
    "        Implementing Euclidean distance\n",
    "        Args:\n",
    "            node (Node): Current agent node\n",
    "        \n",
    "        Returns:\n",
    "            Union[float, int]: heuristic value\n",
    "        \"\"\"\n",
    "        return ((self.goal.state[0]-node.state[0])**2 + \n",
    "                (self.goal.state[1]-node.state[1])**2)**(1/2)\n",
    "        \n",
    "        \n",
    "    def __repr__(self):\n",
    "        return '{}({!r}, {!r})'.format(\n",
    "            type(self).__name__, self.initial, self.goal)"
   ]
  },
  {
   "cell_type": "markdown",
   "metadata": {},
   "source": [
    "### Instantiating start and goal nodes"
   ]
  },
  {
   "cell_type": "code",
   "execution_count": 5,
   "metadata": {},
   "outputs": [],
   "source": [
    "start_node = Node((10,8))\n",
    "goal_node = Node((9,11))"
   ]
  },
  {
   "cell_type": "code",
   "execution_count": 6,
   "metadata": {},
   "outputs": [
    {
     "data": {
      "text/plain": [
       "<state:(10, 8) path_cost:0 action:None>"
      ]
     },
     "execution_count": 6,
     "metadata": {},
     "output_type": "execute_result"
    }
   ],
   "source": [
    "start_node"
   ]
  },
  {
   "cell_type": "markdown",
   "metadata": {},
   "source": [
    "### Instantiating maze with start, end, maze size, boundaries, action costs and shaded regions (not known to agent itself)"
   ]
  },
  {
   "cell_type": "code",
   "execution_count": 7,
   "metadata": {},
   "outputs": [],
   "source": [
    "maze = Maze(start_node,\n",
    "            goal_node,\n",
    "            boundaries=(23, 15),\n",
    "            action_cost_map={'LEFT':10, 'RIGHT': 10, 'UP': 1, 'DOWN': 1},\n",
    "            shaded_regions = {(9,6),\n",
    "                               (9,7),\n",
    "                               (9,8),\n",
    "                               (9,9),\n",
    "                               (9,10),\n",
    "                               (10,10),\n",
    "                               (10,11),\n",
    "                               (10,12),\n",
    "                               (10,13),\n",
    "                               (9,14),\n",
    "                               (12,10),\n",
    "                               (13,10),\n",
    "                               (12,11),\n",
    "                               (13,11)},\n",
    "           ds='pq')"
   ]
  },
  {
   "cell_type": "markdown",
   "metadata": {},
   "source": [
    "### Example path to show permissable actions taking into account restrictions"
   ]
  },
  {
   "cell_type": "code",
   "execution_count": 8,
   "metadata": {},
   "outputs": [],
   "source": [
    "actions = maze.actions(Node((0,0)))"
   ]
  },
  {
   "cell_type": "code",
   "execution_count": 9,
   "metadata": {},
   "outputs": [
    {
     "data": {
      "text/plain": [
       "[<state:(0, 1) path_cost:1 action:UP>,\n",
       " <state:(1, 0) path_cost:10 action:RIGHT>]"
      ]
     },
     "execution_count": 9,
     "metadata": {},
     "output_type": "execute_result"
    }
   ],
   "source": [
    "# List of permissable actions. From 0,0, agent can only move up and right.\n",
    "actions"
   ]
  },
  {
   "cell_type": "code",
   "execution_count": 10,
   "metadata": {},
   "outputs": [],
   "source": [
    "# Taking the right,\n",
    "node_1 = actions[1]\n",
    "actions2 = maze.actions(node_1)"
   ]
  },
  {
   "cell_type": "code",
   "execution_count": 11,
   "metadata": {},
   "outputs": [
    {
     "data": {
      "text/plain": [
       "[<state:(1, 1) path_cost:11 action:UP>,\n",
       " <state:(2, 0) path_cost:20 action:RIGHT>]"
      ]
     },
     "execution_count": 11,
     "metadata": {},
     "output_type": "execute_result"
    }
   ],
   "source": [
    "actions2"
   ]
  },
  {
   "cell_type": "code",
   "execution_count": 12,
   "metadata": {},
   "outputs": [
    {
     "data": {
      "text/plain": [
       "11"
      ]
     },
     "execution_count": 12,
     "metadata": {},
     "output_type": "execute_result"
    }
   ],
   "source": [
    "# Taking the up would yield the total path cost so far or 11, 10+1 for one right made\n",
    "# 1 for up made\n",
    "node_2 = actions2[0]\n",
    "node_2.path_cost"
   ]
  },
  {
   "cell_type": "code",
   "execution_count": 13,
   "metadata": {},
   "outputs": [],
   "source": [
    "actions_3 = maze.actions(node_2)"
   ]
  },
  {
   "cell_type": "code",
   "execution_count": 14,
   "metadata": {},
   "outputs": [
    {
     "data": {
      "text/plain": [
       "[<state:(1, 2) path_cost:12 action:UP>,\n",
       " <state:(2, 1) path_cost:21 action:RIGHT>,\n",
       " <state:(0, 1) path_cost:21 action:LEFT>]"
      ]
     },
     "execution_count": 14,
     "metadata": {},
     "output_type": "execute_result"
    }
   ],
   "source": [
    "actions_3"
   ]
  },
  {
   "cell_type": "code",
   "execution_count": 15,
   "metadata": {},
   "outputs": [],
   "source": [
    "node_3 = actions_3[2] # mimicking a left"
   ]
  },
  {
   "cell_type": "code",
   "execution_count": 16,
   "metadata": {},
   "outputs": [
    {
     "data": {
      "text/plain": [
       "<state:(0, 1) path_cost:21 action:LEFT>"
      ]
     },
     "execution_count": 16,
     "metadata": {},
     "output_type": "execute_result"
    }
   ],
   "source": [
    "node_3"
   ]
  },
  {
   "cell_type": "code",
   "execution_count": 17,
   "metadata": {},
   "outputs": [],
   "source": [
    "def trace_all_actions_taken(state: Node) -> List[str]:\n",
    "    \"\"\"\n",
    "    Return path taken given node\n",
    "    Args:\n",
    "        state (Node): Node of a path\n",
    "    \n",
    "    Returns:\n",
    "        List[str]:\n",
    "            Actions taken in order from start\n",
    "    \"\"\"\n",
    "    all_actions = []\n",
    "    while state.action != None:\n",
    "        all_actions.append(state.action)\n",
    "        state = state.parent\n",
    "    return all_actions[::-1] # reverse it back"
   ]
  },
  {
   "cell_type": "code",
   "execution_count": 18,
   "metadata": {},
   "outputs": [
    {
     "data": {
      "text/plain": [
       "['RIGHT', 'UP', 'LEFT']"
      ]
     },
     "execution_count": 18,
     "metadata": {},
     "output_type": "execute_result"
    }
   ],
   "source": [
    "trace_all_actions_taken(node_3)"
   ]
  },
  {
   "cell_type": "code",
   "execution_count": 19,
   "metadata": {},
   "outputs": [
    {
     "data": {
      "text/plain": [
       "[<state:(11, 9) path_cost:1 action:DOWN>,\n",
       " <state:(11, 11) path_cost:1 action:UP>]"
      ]
     },
     "execution_count": 19,
     "metadata": {},
     "output_type": "execute_result"
    }
   ],
   "source": [
    "# Example of where agent will only be able to choose\n",
    "# up/down due to shaded areas\n",
    "maze.actions(Node((11,10)))"
   ]
  },
  {
   "cell_type": "markdown",
   "metadata": {},
   "source": [
    "### Per the comparison dunder method defined, comparing the nodes so far yields that node_2 has a higher pathcost than node_1"
   ]
  },
  {
   "cell_type": "code",
   "execution_count": 20,
   "metadata": {},
   "outputs": [
    {
     "data": {
      "text/plain": [
       "False"
      ]
     },
     "execution_count": 20,
     "metadata": {},
     "output_type": "execute_result"
    }
   ],
   "source": [
    "node_2 < node_1"
   ]
  },
  {
   "cell_type": "markdown",
   "metadata": {},
   "source": [
    "### Heuristics 1 and 2\n",
    "Defining an arbitrary node"
   ]
  },
  {
   "cell_type": "code",
   "execution_count": 21,
   "metadata": {},
   "outputs": [],
   "source": [
    "intermediate_node = Node((12,9))"
   ]
  },
  {
   "cell_type": "code",
   "execution_count": 22,
   "metadata": {},
   "outputs": [
    {
     "name": "stdout",
     "output_type": "stream",
     "text": [
      "Manhatten distance: 5\n",
      "Euclidean distance: 3.605551275463989\n"
     ]
    }
   ],
   "source": [
    "print(f\"Manhatten distance: {maze.h(intermediate_node)}\")\n",
    "print(f\"Euclidean distance: {maze.h2(intermediate_node)}\")"
   ]
  },
  {
   "cell_type": "code",
   "execution_count": 23,
   "metadata": {},
   "outputs": [
    {
     "name": "stdout",
     "output_type": "stream",
     "text": [
      "True\n",
      "True\n"
     ]
    }
   ],
   "source": [
    "# Tests, please ignore but use for testing classes\n",
    "print(start_node == Node((10, 8)))\n",
    "print(goal_node == Node((9, 11)))"
   ]
  },
  {
   "cell_type": "code",
   "execution_count": null,
   "metadata": {},
   "outputs": [],
   "source": []
  }
 ],
 "metadata": {
  "kernelspec": {
   "display_name": "Python 3 (ipykernel)",
   "language": "python",
   "name": "python3"
  },
  "language_info": {
   "codemirror_mode": {
    "name": "ipython",
    "version": 3
   },
   "file_extension": ".py",
   "mimetype": "text/x-python",
   "name": "python",
   "nbconvert_exporter": "python",
   "pygments_lexer": "ipython3",
   "version": "3.7.11"
  },
  "vscode": {
   "interpreter": {
    "hash": "85c6d5c81e07e5df96d46470b5f31cdc60bf99937c21eb8030f5ac9c2291ee2f"
   }
  }
 },
 "nbformat": 4,
 "nbformat_minor": 2
}
