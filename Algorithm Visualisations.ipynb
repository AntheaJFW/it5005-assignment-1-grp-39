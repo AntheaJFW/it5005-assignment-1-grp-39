{
 "cells": [
  {
   "cell_type": "code",
   "execution_count": 1,
   "id": "849f7c0f",
   "metadata": {
    "scrolled": true
   },
   "outputs": [],
   "source": [
    "from IPython.display import Video\n",
    "links = {\n",
    "    'BFS': \"https://user-images.githubusercontent.com/24652052/190967358-277802a7-ddab-4c7e-b50d-7d4c933863fd.mp4\",\n",
    "    'DFS with cycle check': \"https://user-images.githubusercontent.com/24652052/190967651-6bc97b1f-8a08-4e29-9311-6f4322206c07.mp4\",\n",
    "    'Iterative deepening search': \"https://user-images.githubusercontent.com/24652052/190967651-6bc97b1f-8a08-4e29-9311-6f4322206c07.mp4\",\n",
    "    'Greedy best first search (manhatten distance)': \"https://user-images.githubusercontent.com/24652052/190967681-1ad37c1d-b422-4ab0-aaea-e944b707790b.mp4\",\n",
    "    'Greedy best first search (Euclidean distance)': \"https://user-images.githubusercontent.com/24652052/190967702-3a358d48-25b1-4b4a-b251-d2f1db832c3d.mp4\",\n",
    "    'Uniform cost search': \"https://user-images.githubusercontent.com/24652052/190967755-d0b2d950-c0b4-4874-961c-c676f2aefdf9.mp4\",\n",
    "    'A* search (manhatten distance)': \"https://user-images.githubusercontent.com/24652052/190967774-7818c199-4b0c-46aa-9c51-d11e09f2c33a.mp4\",\n",
    "    'A* search (Euclidean distance)': \"https://user-images.githubusercontent.com/24652052/190967842-6cde9438-491b-47d5-92d3-080c1304ece9.mp4\"\n",
    "}"
   ]
  },
  {
   "cell_type": "markdown",
   "id": "9ca30cd3",
   "metadata": {},
   "source": [
    "Key:\n",
    "* green: Start node / solution path\n",
    "* red: Goal node\n",
    "* light blue: Generated nodes\n",
    "* dark blue: Expanded nodes\n",
    "* black: Barriers / shaded regions\n",
    "* grey: Replaced nodes (lower path cost)"
   ]
  },
  {
   "cell_type": "markdown",
   "id": "278a0e04",
   "metadata": {},
   "source": [
    "### Breadth First Search"
   ]
  },
  {
   "cell_type": "code",
   "execution_count": 2,
   "id": "a21e39f3",
   "metadata": {},
   "outputs": [
    {
     "data": {
      "text/html": [
       "<video src=\"https://user-images.githubusercontent.com/24652052/190967358-277802a7-ddab-4c7e-b50d-7d4c933863fd.mp4\" controls  >\n",
       "      Your browser does not support the <code>video</code> element.\n",
       "    </video>"
      ],
      "text/plain": [
       "<IPython.core.display.Video object>"
      ]
     },
     "execution_count": 2,
     "metadata": {},
     "output_type": "execute_result"
    }
   ],
   "source": [
    "Video(links['BFS'])"
   ]
  },
  {
   "cell_type": "markdown",
   "id": "3eb85af6",
   "metadata": {},
   "source": [
    "### DFS with cycle check"
   ]
  },
  {
   "cell_type": "code",
   "execution_count": 3,
   "id": "6f792fbb",
   "metadata": {},
   "outputs": [
    {
     "data": {
      "text/html": [
       "<video src=\"https://user-images.githubusercontent.com/24652052/190967651-6bc97b1f-8a08-4e29-9311-6f4322206c07.mp4\" controls  >\n",
       "      Your browser does not support the <code>video</code> element.\n",
       "    </video>"
      ],
      "text/plain": [
       "<IPython.core.display.Video object>"
      ]
     },
     "execution_count": 3,
     "metadata": {},
     "output_type": "execute_result"
    }
   ],
   "source": [
    "Video(links['DFS with cycle check'])"
   ]
  },
  {
   "cell_type": "markdown",
   "id": "0acf716f",
   "metadata": {},
   "source": [
    "### Iterative deepening search"
   ]
  },
  {
   "cell_type": "code",
   "execution_count": 4,
   "id": "0db8c052",
   "metadata": {},
   "outputs": [
    {
     "data": {
      "text/html": [
       "<video src=\"https://user-images.githubusercontent.com/24652052/190967651-6bc97b1f-8a08-4e29-9311-6f4322206c07.mp4\" controls  >\n",
       "      Your browser does not support the <code>video</code> element.\n",
       "    </video>"
      ],
      "text/plain": [
       "<IPython.core.display.Video object>"
      ]
     },
     "execution_count": 4,
     "metadata": {},
     "output_type": "execute_result"
    }
   ],
   "source": [
    "Video(links['Iterative deepening search'])"
   ]
  },
  {
   "cell_type": "markdown",
   "id": "524ae2b2",
   "metadata": {},
   "source": [
    "### Greedy best first search (manhatten distance)"
   ]
  },
  {
   "cell_type": "code",
   "execution_count": 5,
   "id": "42f8175c",
   "metadata": {},
   "outputs": [
    {
     "data": {
      "text/html": [
       "<video src=\"https://user-images.githubusercontent.com/24652052/190967681-1ad37c1d-b422-4ab0-aaea-e944b707790b.mp4\" controls  >\n",
       "      Your browser does not support the <code>video</code> element.\n",
       "    </video>"
      ],
      "text/plain": [
       "<IPython.core.display.Video object>"
      ]
     },
     "execution_count": 5,
     "metadata": {},
     "output_type": "execute_result"
    }
   ],
   "source": [
    "Video(links['Greedy best first search (manhatten distance)'])"
   ]
  },
  {
   "cell_type": "markdown",
   "id": "96422e8d",
   "metadata": {},
   "source": [
    "### Greedy best first search (Euclidean distance)"
   ]
  },
  {
   "cell_type": "code",
   "execution_count": 6,
   "id": "7af0d51a",
   "metadata": {},
   "outputs": [
    {
     "data": {
      "text/html": [
       "<video src=\"https://user-images.githubusercontent.com/24652052/190967702-3a358d48-25b1-4b4a-b251-d2f1db832c3d.mp4\" controls  >\n",
       "      Your browser does not support the <code>video</code> element.\n",
       "    </video>"
      ],
      "text/plain": [
       "<IPython.core.display.Video object>"
      ]
     },
     "execution_count": 6,
     "metadata": {},
     "output_type": "execute_result"
    }
   ],
   "source": [
    "Video(links['Greedy best first search (Euclidean distance)'])"
   ]
  },
  {
   "cell_type": "markdown",
   "id": "a9ed2424",
   "metadata": {},
   "source": [
    "### Uniform cost search"
   ]
  },
  {
   "cell_type": "code",
   "execution_count": 7,
   "id": "aba932c6",
   "metadata": {},
   "outputs": [
    {
     "data": {
      "text/html": [
       "<video src=\"https://user-images.githubusercontent.com/24652052/190967755-d0b2d950-c0b4-4874-961c-c676f2aefdf9.mp4\" controls  >\n",
       "      Your browser does not support the <code>video</code> element.\n",
       "    </video>"
      ],
      "text/plain": [
       "<IPython.core.display.Video object>"
      ]
     },
     "execution_count": 7,
     "metadata": {},
     "output_type": "execute_result"
    }
   ],
   "source": [
    "Video(links['Uniform cost search'])"
   ]
  },
  {
   "cell_type": "markdown",
   "id": "e769b9a1",
   "metadata": {},
   "source": [
    "### A* search (manhatten distance)"
   ]
  },
  {
   "cell_type": "code",
   "execution_count": 8,
   "id": "256dca67",
   "metadata": {},
   "outputs": [
    {
     "data": {
      "text/html": [
       "<video src=\"https://user-images.githubusercontent.com/24652052/190967774-7818c199-4b0c-46aa-9c51-d11e09f2c33a.mp4\" controls  >\n",
       "      Your browser does not support the <code>video</code> element.\n",
       "    </video>"
      ],
      "text/plain": [
       "<IPython.core.display.Video object>"
      ]
     },
     "execution_count": 8,
     "metadata": {},
     "output_type": "execute_result"
    }
   ],
   "source": [
    "Video(links['A* search (manhatten distance)'])"
   ]
  },
  {
   "cell_type": "markdown",
   "id": "a53f6cfd",
   "metadata": {},
   "source": [
    "### A* search (Euclidean distance)"
   ]
  },
  {
   "cell_type": "code",
   "execution_count": 9,
   "id": "f4c47255",
   "metadata": {},
   "outputs": [
    {
     "data": {
      "text/html": [
       "<video src=\"https://user-images.githubusercontent.com/24652052/190967842-6cde9438-491b-47d5-92d3-080c1304ece9.mp4\" controls  >\n",
       "      Your browser does not support the <code>video</code> element.\n",
       "    </video>"
      ],
      "text/plain": [
       "<IPython.core.display.Video object>"
      ]
     },
     "execution_count": 9,
     "metadata": {},
     "output_type": "execute_result"
    }
   ],
   "source": [
    "Video(links['A* search (Euclidean distance)'])"
   ]
  }
 ],
 "metadata": {
  "kernelspec": {
   "display_name": "Python 3 (ipykernel)",
   "language": "python",
   "name": "python3"
  },
  "language_info": {
   "codemirror_mode": {
    "name": "ipython",
    "version": 3
   },
   "file_extension": ".py",
   "mimetype": "text/x-python",
   "name": "python",
   "nbconvert_exporter": "python",
   "pygments_lexer": "ipython3",
   "version": "3.7.13"
  }
 },
 "nbformat": 4,
 "nbformat_minor": 5
}
